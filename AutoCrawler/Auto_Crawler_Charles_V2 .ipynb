{
 "cells": [
  {
   "cell_type": "code",
   "execution_count": 33,
   "metadata": {},
   "outputs": [],
   "source": [
    "# -- coding:UTF-8 --\n",
    "import requests\n",
    "import os\n",
    "import time\n",
    "import ssl\n",
    "import datetime\n",
    "from bs4 import BeautifulSoup\n",
    "import pandas as pd\n",
    "import pymysql\n",
    "import re\n",
    "\n",
    "\n",
    "# used to fix Python SSL CERTIFICATE_VERIFY_FAILED\n",
    "if (not os.environ.get('PYTHONHTTPSVERIFY', '') and getattr(ssl, '_create_unverified_context', None)):\n",
    "    ssl._create_default_https_context = ssl._create_unverified_context\n",
    "####################################\n",
    "\n",
    "#Dayuan 18 LongTan 21 GuanYin 19 JhongLi 68 PingZhen 20 TaoYuan 17\n",
    "#So2 1 CO 2 O3 3 PM10 4 NOx 5 NO 6 NO2 7 WIND_SPEED 10 WIND_DIRECT 11 AMB_TEMP 14 RAINFALL 23 RH 38 WS_HR 143 WD_HR 144\n"
   ]
  },
  {
   "cell_type": "code",
   "execution_count": 34,
   "metadata": {},
   "outputs": [],
   "source": [
    "url = 'https://taqm.epa.gov.tw/taqm/tw/HourlyData.aspx'\n",
    "today = datetime.datetime.now()"
   ]
  },
  {
   "cell_type": "code",
   "execution_count": 35,
   "metadata": {},
   "outputs": [],
   "source": [
    "def main():\n",
    "\n",
    "    post_component = post_web_page(url)\n",
    "    LongTan_pollution = LongTan(today,post_component[0],post_component[1],post_component[2])\n",
    "    LT_PM25 = LongTan_pm25()\n",
    "    pm25_dict = {'PM2.5':LT_PM25}\n",
    "    LongTan_Final = LongTan_pollution.copy()\n",
    "    LongTan_Final.update(pm25_dict)\n",
    "    print(LongTan_Final)\n"
   ]
  },
  {
   "cell_type": "code",
   "execution_count": 36,
   "metadata": {},
   "outputs": [],
   "source": [
    "def post_web_page(url):\n",
    "\n",
    "    resp = requests.get(url)\n",
    "    soup = BeautifulSoup(resp.text, 'html5lib')\n",
    "    view_state = soup.find(id='__VIEWSTATE')['value']\n",
    "    event_validation = soup.find(id='__EVENTVALIDATION')['value']\n",
    "    viewstate_generator = soup.find(id='__VIEWSTATEGENERATOR')['value']\n",
    "\n",
    "    return view_state,event_validation,viewstate_generator"
   ]
  },
  {
   "cell_type": "code",
   "execution_count": 37,
   "metadata": {},
   "outputs": [],
   "source": [
    "def LongTan_pm25():\n",
    "    \n",
    "    URL = 'https://taqm.epa.gov.tw/pm25/tw/HourlyData.aspx'\n",
    "    resp = requests.get(URL)\n",
    "    soup = BeautifulSoup(resp.text, 'html5lib')\n",
    "\n",
    "    view_state = soup.find(id='__VIEWSTATE')['value']\n",
    "    event_validation = soup.find(id='__EVENTVALIDATION')['value']\n",
    "    viewstate_generator = soup.find(id='__VIEWSTATEGENERATOR')['value']\n",
    "    form_data = {\n",
    "        '__VIEWSTATE': view_state,\n",
    "        '__VIEWSTATEGENERATOR': viewstate_generator,\n",
    "        '__EVENTVALIDATION': event_validation,\n",
    "        'ctl08$lbSite': '21',\n",
    "        'ctl08$lbParam': '33',\n",
    "        'ctl08$txtDateS': '{}/{}/{}'.format(today.year,today.month,today.day),\n",
    "        'ctl08$txtDateE': '{}/{}/{}'.format(today.year,today.month,today.day),\n",
    "        'ctl08$btnQuery': '查詢即時值'\n",
    "    }\n",
    "    resp = requests.post(URL, data=form_data)\n",
    "    soup = BeautifulSoup(resp.text, 'html5lib')\n",
    "\n",
    "    for t in soup.find_all('table', 'TABLE_G'):\n",
    "\n",
    "        input_str = [s for s in t.stripped_strings][26 + today.hour - 1]\n",
    "        pm25 = input_str\n",
    "\n",
    "    return pm25"
   ]
  },
  {
   "cell_type": "code",
   "execution_count": 38,
   "metadata": {},
   "outputs": [],
   "source": [
    "def LongTan(today,view_state,event_validation,viewstate_generator):\n",
    "\n",
    "    station_num = 21\n",
    "    polltion_num = [1, 2, 3, 4, 5, 6, 7, 10, 11, 14, 23, 38, 143, 144]\n",
    "    pollution_name = ['SO2', 'CO', 'O3', 'PM10', 'NOx', 'NO', 'NO2', 'WIND_SPEED', 'WIND_DIRECT', 'AMB_TEMP', \\\n",
    "                      'RAINFALL', 'RH', 'WS_HR', 'WD_HR' ]\n",
    "    pollution = []\n",
    "\n",
    "    for p in polltion_num:\n",
    "\n",
    "        form_data = {\n",
    "            '__VIEWSTATE': view_state,\n",
    "            '__VIEWSTATEGENERATOR': viewstate_generator,\n",
    "            '__EVENTVALIDATION': event_validation,\n",
    "            'ctl05$lbSite': station_num,\n",
    "            'ctl05$lbParam': '{}'.format(p),\n",
    "            'ctl05$txtDateS': '{}/{}/{}'.format(today.year, today.month, today.day),\n",
    "            'ctl05$txtDateE': '{}/{}/{}'.format(today.year, today.month, today.day),\n",
    "            'ctl05$btnQuery': '查詢即時值'\n",
    "        }\n",
    "\n",
    "        resp = requests.post(url, data=form_data)\n",
    "        soup = BeautifulSoup(resp.text, 'html5lib')\n",
    "\n",
    "        for t in soup.find_all('table', 'TABLE_G'):\n",
    "\n",
    "            fetch_result = [s for s in t.stripped_strings][26 + today.hour - 1]\n",
    "\n",
    "            pollution.append(fetch_result)\n",
    "\n",
    "    pollution_result = pollution\n",
    "\n",
    "    list_dict = zip(pollution_name,pollution_result)\n",
    "    LongTan_pollution_dict = dict(list_dict)\n",
    "\n",
    "    return LongTan_pollution_dict"
   ]
  },
  {
   "cell_type": "code",
   "execution_count": 39,
   "metadata": {},
   "outputs": [
    {
     "name": "stdout",
     "output_type": "stream",
     "text": [
      "{'SO2': '3.7', 'CO': '0.46', 'O3': '36', 'PM10': '18', 'NOx': '15', 'NO': '4', 'NO2': '11', 'WIND_SPEED': '1.4', 'WIND_DIRECT': '14', 'AMB_TEMP': '17.6', 'RAINFALL': 'NR', 'RH': '84', 'WS_HR': '1.2', 'WD_HR': '13', 'PM2.5': '16'}\n"
     ]
    }
   ],
   "source": [
    "if __name__ == '__main__':\n",
    "    main()"
   ]
  },
  {
   "cell_type": "code",
   "execution_count": null,
   "metadata": {},
   "outputs": [],
   "source": []
  },
  {
   "cell_type": "code",
   "execution_count": null,
   "metadata": {},
   "outputs": [],
   "source": []
  }
 ],
 "metadata": {
  "kernelspec": {
   "display_name": "Python 3",
   "language": "python",
   "name": "python3"
  },
  "language_info": {
   "codemirror_mode": {
    "name": "ipython",
    "version": 3
   },
   "file_extension": ".py",
   "mimetype": "text/x-python",
   "name": "python",
   "nbconvert_exporter": "python",
   "pygments_lexer": "ipython3",
   "version": "3.7.2"
  }
 },
 "nbformat": 4,
 "nbformat_minor": 2
}
