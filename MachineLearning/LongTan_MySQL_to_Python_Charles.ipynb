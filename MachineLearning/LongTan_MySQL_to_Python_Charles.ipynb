{
 "cells": [
  {
   "cell_type": "code",
   "execution_count": 2,
   "metadata": {},
   "outputs": [],
   "source": [
    "import os \n",
    "import numpy as np \n",
    "import pandas as pd \n",
    "from pandas import Series, DataFrame \n",
    "from sklearn.model_selection import train_test_split \n",
    "from sklearn.preprocessing import OneHotEncoder \n",
    "from sklearn import svm\n",
    "from sklearn.datasets import samples_generator\n",
    "from sklearn.feature_selection import SelectKBest, f_regression\n",
    "from sklearn.pipeline import make_pipeline\n",
    "from sklearn.svm import SVR\n",
    "import matplotlib.pyplot as plt\n",
    "import ssl \n",
    "import pymysql\n",
    "import os\n",
    "from sklearn.externals import joblib\n",
    "\n",
    "# used to fix Python SSL CERTIFICATE_VERIFY_FAILED\n",
    "if (not os.environ.get('PYTHONHTTPSVERIFY', '') and getattr(ssl, '_create_unverified_context', None)):\n",
    "    ssl._create_default_https_context = ssl._create_unverified_context"
   ]
  },
  {
   "cell_type": "code",
   "execution_count": 3,
   "metadata": {},
   "outputs": [
    {
     "name": "stdout",
     "output_type": "stream",
     "text": [
      "Path of read in data: /Users/charles/Desktop/Project/LongTan_File/LongTan_complete_2018.csv\n"
     ]
    }
   ],
   "source": [
    "#Load data as we need to do min-max normalization\n",
    "project_data_path = '/Users/charles/Desktop/Project/LongTan_File/'\n",
    "longtan_file_2018 = os.path.join(project_data_path, 'LongTan_complete_2018.csv')\n",
    "print('Path of read in data: %s' % (longtan_file_2018))"
   ]
  },
  {
   "cell_type": "code",
   "execution_count": 4,
   "metadata": {},
   "outputs": [],
   "source": [
    "project_data = pd.read_csv(longtan_file_2018)"
   ]
  },
  {
   "cell_type": "code",
   "execution_count": 5,
   "metadata": {},
   "outputs": [],
   "source": [
    "#Restore model\n",
    "clf=joblib.load(\"./LT_ML_Predict.pkl\")"
   ]
  },
  {
   "cell_type": "code",
   "execution_count": 6,
   "metadata": {},
   "outputs": [
    {
     "data": {
      "text/html": [
       "<div>\n",
       "<style scoped>\n",
       "    .dataframe tbody tr th:only-of-type {\n",
       "        vertical-align: middle;\n",
       "    }\n",
       "\n",
       "    .dataframe tbody tr th {\n",
       "        vertical-align: top;\n",
       "    }\n",
       "\n",
       "    .dataframe thead th {\n",
       "        text-align: right;\n",
       "    }\n",
       "</style>\n",
       "<table border=\"1\" class=\"dataframe\">\n",
       "  <thead>\n",
       "    <tr style=\"text-align: right;\">\n",
       "      <th></th>\n",
       "      <th>station</th>\n",
       "      <th>Year</th>\n",
       "      <th>Month</th>\n",
       "      <th>Day</th>\n",
       "      <th>Time</th>\n",
       "      <th>AMB_TEMP</th>\n",
       "      <th>CO</th>\n",
       "      <th>NO</th>\n",
       "      <th>NOx</th>\n",
       "      <th>O3</th>\n",
       "      <th>PM10</th>\n",
       "      <th>PM2.5</th>\n",
       "      <th>RAINFALL</th>\n",
       "      <th>RH</th>\n",
       "      <th>SO2</th>\n",
       "      <th>WD_HR</th>\n",
       "      <th>WIND_DIREC</th>\n",
       "      <th>WIND_SPEED</th>\n",
       "      <th>WS_HR</th>\n",
       "    </tr>\n",
       "  </thead>\n",
       "  <tbody>\n",
       "    <tr>\n",
       "      <th>0</th>\n",
       "      <td>LT</td>\n",
       "      <td>2018</td>\n",
       "      <td>1</td>\n",
       "      <td>1</td>\n",
       "      <td>0</td>\n",
       "      <td>14.0</td>\n",
       "      <td>0.25</td>\n",
       "      <td>0.4</td>\n",
       "      <td>2.4</td>\n",
       "      <td>46.0</td>\n",
       "      <td>58.0</td>\n",
       "      <td>19.0</td>\n",
       "      <td>0.0</td>\n",
       "      <td>75.0</td>\n",
       "      <td>1.0</td>\n",
       "      <td>71.0</td>\n",
       "      <td>71.0</td>\n",
       "      <td>7.1</td>\n",
       "      <td>6.7</td>\n",
       "    </tr>\n",
       "    <tr>\n",
       "      <th>1</th>\n",
       "      <td>LT</td>\n",
       "      <td>2018</td>\n",
       "      <td>1</td>\n",
       "      <td>1</td>\n",
       "      <td>1</td>\n",
       "      <td>14.1</td>\n",
       "      <td>0.25</td>\n",
       "      <td>0.8</td>\n",
       "      <td>1.7</td>\n",
       "      <td>49.0</td>\n",
       "      <td>58.0</td>\n",
       "      <td>23.0</td>\n",
       "      <td>0.0</td>\n",
       "      <td>75.0</td>\n",
       "      <td>1.4</td>\n",
       "      <td>69.0</td>\n",
       "      <td>72.0</td>\n",
       "      <td>6.9</td>\n",
       "      <td>6.5</td>\n",
       "    </tr>\n",
       "    <tr>\n",
       "      <th>2</th>\n",
       "      <td>LT</td>\n",
       "      <td>2018</td>\n",
       "      <td>1</td>\n",
       "      <td>1</td>\n",
       "      <td>2</td>\n",
       "      <td>14.2</td>\n",
       "      <td>0.26</td>\n",
       "      <td>0.7</td>\n",
       "      <td>1.7</td>\n",
       "      <td>50.0</td>\n",
       "      <td>46.0</td>\n",
       "      <td>27.0</td>\n",
       "      <td>0.0</td>\n",
       "      <td>74.0</td>\n",
       "      <td>1.3</td>\n",
       "      <td>67.0</td>\n",
       "      <td>67.0</td>\n",
       "      <td>7.3</td>\n",
       "      <td>6.2</td>\n",
       "    </tr>\n",
       "    <tr>\n",
       "      <th>3</th>\n",
       "      <td>LT</td>\n",
       "      <td>2018</td>\n",
       "      <td>1</td>\n",
       "      <td>1</td>\n",
       "      <td>3</td>\n",
       "      <td>14.3</td>\n",
       "      <td>0.25</td>\n",
       "      <td>0.7</td>\n",
       "      <td>1.6</td>\n",
       "      <td>49.0</td>\n",
       "      <td>38.0</td>\n",
       "      <td>24.0</td>\n",
       "      <td>0.0</td>\n",
       "      <td>74.0</td>\n",
       "      <td>1.4</td>\n",
       "      <td>68.0</td>\n",
       "      <td>64.0</td>\n",
       "      <td>6.3</td>\n",
       "      <td>6.1</td>\n",
       "    </tr>\n",
       "    <tr>\n",
       "      <th>4</th>\n",
       "      <td>LT</td>\n",
       "      <td>2018</td>\n",
       "      <td>1</td>\n",
       "      <td>1</td>\n",
       "      <td>4</td>\n",
       "      <td>14.2</td>\n",
       "      <td>0.25</td>\n",
       "      <td>0.6</td>\n",
       "      <td>1.9</td>\n",
       "      <td>48.0</td>\n",
       "      <td>37.0</td>\n",
       "      <td>23.0</td>\n",
       "      <td>0.0</td>\n",
       "      <td>74.0</td>\n",
       "      <td>1.5</td>\n",
       "      <td>61.0</td>\n",
       "      <td>58.0</td>\n",
       "      <td>5.0</td>\n",
       "      <td>5.2</td>\n",
       "    </tr>\n",
       "  </tbody>\n",
       "</table>\n",
       "</div>"
      ],
      "text/plain": [
       "  station  Year  Month  Day  Time  AMB_TEMP    CO   NO  NOx    O3  PM10  \\\n",
       "0      LT  2018      1    1     0      14.0  0.25  0.4  2.4  46.0  58.0   \n",
       "1      LT  2018      1    1     1      14.1  0.25  0.8  1.7  49.0  58.0   \n",
       "2      LT  2018      1    1     2      14.2  0.26  0.7  1.7  50.0  46.0   \n",
       "3      LT  2018      1    1     3      14.3  0.25  0.7  1.6  49.0  38.0   \n",
       "4      LT  2018      1    1     4      14.2  0.25  0.6  1.9  48.0  37.0   \n",
       "\n",
       "   PM2.5  RAINFALL    RH  SO2  WD_HR  WIND_DIREC  WIND_SPEED  WS_HR  \n",
       "0   19.0       0.0  75.0  1.0   71.0        71.0         7.1    6.7  \n",
       "1   23.0       0.0  75.0  1.4   69.0        72.0         6.9    6.5  \n",
       "2   27.0       0.0  74.0  1.3   67.0        67.0         7.3    6.2  \n",
       "3   24.0       0.0  74.0  1.4   68.0        64.0         6.3    6.1  \n",
       "4   23.0       0.0  74.0  1.5   61.0        58.0         5.0    5.2  "
      ]
     },
     "execution_count": 6,
     "metadata": {},
     "output_type": "execute_result"
    }
   ],
   "source": [
    "project_data.head()"
   ]
  },
  {
   "cell_type": "code",
   "execution_count": 7,
   "metadata": {},
   "outputs": [
    {
     "data": {
      "text/html": [
       "<div>\n",
       "<style scoped>\n",
       "    .dataframe tbody tr th:only-of-type {\n",
       "        vertical-align: middle;\n",
       "    }\n",
       "\n",
       "    .dataframe tbody tr th {\n",
       "        vertical-align: top;\n",
       "    }\n",
       "\n",
       "    .dataframe thead th {\n",
       "        text-align: right;\n",
       "    }\n",
       "</style>\n",
       "<table border=\"1\" class=\"dataframe\">\n",
       "  <thead>\n",
       "    <tr style=\"text-align: right;\">\n",
       "      <th></th>\n",
       "      <th>station</th>\n",
       "      <th>Year</th>\n",
       "      <th>Month</th>\n",
       "      <th>Day</th>\n",
       "      <th>Time</th>\n",
       "      <th>AMB_TEMP</th>\n",
       "      <th>CO</th>\n",
       "      <th>NO</th>\n",
       "      <th>NOx</th>\n",
       "      <th>O3</th>\n",
       "      <th>PM10</th>\n",
       "      <th>PM2.5</th>\n",
       "      <th>RAINFALL</th>\n",
       "      <th>RH</th>\n",
       "      <th>SO2</th>\n",
       "      <th>WD_HR</th>\n",
       "      <th>WIND_DIREC</th>\n",
       "      <th>WIND_SPEED</th>\n",
       "      <th>WS_HR</th>\n",
       "    </tr>\n",
       "  </thead>\n",
       "  <tbody>\n",
       "    <tr>\n",
       "      <th>8755</th>\n",
       "      <td>LT</td>\n",
       "      <td>2018</td>\n",
       "      <td>12</td>\n",
       "      <td>31</td>\n",
       "      <td>19</td>\n",
       "      <td>14.5</td>\n",
       "      <td>0.24</td>\n",
       "      <td>1.5</td>\n",
       "      <td>9.4</td>\n",
       "      <td>34.0</td>\n",
       "      <td>10.0</td>\n",
       "      <td>13.0</td>\n",
       "      <td>0.0</td>\n",
       "      <td>95.0</td>\n",
       "      <td>2.3</td>\n",
       "      <td>58.0</td>\n",
       "      <td>57.0</td>\n",
       "      <td>7.0</td>\n",
       "      <td>6.4</td>\n",
       "    </tr>\n",
       "    <tr>\n",
       "      <th>8756</th>\n",
       "      <td>LT</td>\n",
       "      <td>2018</td>\n",
       "      <td>12</td>\n",
       "      <td>31</td>\n",
       "      <td>20</td>\n",
       "      <td>14.5</td>\n",
       "      <td>0.24</td>\n",
       "      <td>1.4</td>\n",
       "      <td>9.2</td>\n",
       "      <td>34.0</td>\n",
       "      <td>11.0</td>\n",
       "      <td>17.0</td>\n",
       "      <td>0.0</td>\n",
       "      <td>95.0</td>\n",
       "      <td>2.2</td>\n",
       "      <td>53.0</td>\n",
       "      <td>50.0</td>\n",
       "      <td>5.6</td>\n",
       "      <td>5.9</td>\n",
       "    </tr>\n",
       "    <tr>\n",
       "      <th>8757</th>\n",
       "      <td>LT</td>\n",
       "      <td>2018</td>\n",
       "      <td>12</td>\n",
       "      <td>31</td>\n",
       "      <td>21</td>\n",
       "      <td>14.6</td>\n",
       "      <td>0.25</td>\n",
       "      <td>1.5</td>\n",
       "      <td>9.1</td>\n",
       "      <td>33.0</td>\n",
       "      <td>8.0</td>\n",
       "      <td>13.0</td>\n",
       "      <td>0.0</td>\n",
       "      <td>95.0</td>\n",
       "      <td>1.9</td>\n",
       "      <td>52.0</td>\n",
       "      <td>54.0</td>\n",
       "      <td>5.7</td>\n",
       "      <td>5.5</td>\n",
       "    </tr>\n",
       "    <tr>\n",
       "      <th>8758</th>\n",
       "      <td>LT</td>\n",
       "      <td>2018</td>\n",
       "      <td>12</td>\n",
       "      <td>31</td>\n",
       "      <td>22</td>\n",
       "      <td>14.6</td>\n",
       "      <td>0.22</td>\n",
       "      <td>1.2</td>\n",
       "      <td>7.7</td>\n",
       "      <td>34.0</td>\n",
       "      <td>6.0</td>\n",
       "      <td>4.0</td>\n",
       "      <td>0.0</td>\n",
       "      <td>95.0</td>\n",
       "      <td>2.1</td>\n",
       "      <td>49.0</td>\n",
       "      <td>48.0</td>\n",
       "      <td>6.1</td>\n",
       "      <td>5.6</td>\n",
       "    </tr>\n",
       "    <tr>\n",
       "      <th>8759</th>\n",
       "      <td>LT</td>\n",
       "      <td>2018</td>\n",
       "      <td>12</td>\n",
       "      <td>31</td>\n",
       "      <td>23</td>\n",
       "      <td>14.7</td>\n",
       "      <td>0.19</td>\n",
       "      <td>1.0</td>\n",
       "      <td>5.8</td>\n",
       "      <td>36.0</td>\n",
       "      <td>6.0</td>\n",
       "      <td>1.0</td>\n",
       "      <td>0.0</td>\n",
       "      <td>96.0</td>\n",
       "      <td>2.0</td>\n",
       "      <td>48.0</td>\n",
       "      <td>52.0</td>\n",
       "      <td>6.3</td>\n",
       "      <td>6.3</td>\n",
       "    </tr>\n",
       "  </tbody>\n",
       "</table>\n",
       "</div>"
      ],
      "text/plain": [
       "     station  Year  Month  Day  Time  AMB_TEMP    CO   NO  NOx    O3  PM10  \\\n",
       "8755      LT  2018     12   31    19      14.5  0.24  1.5  9.4  34.0  10.0   \n",
       "8756      LT  2018     12   31    20      14.5  0.24  1.4  9.2  34.0  11.0   \n",
       "8757      LT  2018     12   31    21      14.6  0.25  1.5  9.1  33.0   8.0   \n",
       "8758      LT  2018     12   31    22      14.6  0.22  1.2  7.7  34.0   6.0   \n",
       "8759      LT  2018     12   31    23      14.7  0.19  1.0  5.8  36.0   6.0   \n",
       "\n",
       "      PM2.5  RAINFALL    RH  SO2  WD_HR  WIND_DIREC  WIND_SPEED  WS_HR  \n",
       "8755   13.0       0.0  95.0  2.3   58.0        57.0         7.0    6.4  \n",
       "8756   17.0       0.0  95.0  2.2   53.0        50.0         5.6    5.9  \n",
       "8757   13.0       0.0  95.0  1.9   52.0        54.0         5.7    5.5  \n",
       "8758    4.0       0.0  95.0  2.1   49.0        48.0         6.1    5.6  \n",
       "8759    1.0       0.0  96.0  2.0   48.0        52.0         6.3    6.3  "
      ]
     },
     "execution_count": 7,
     "metadata": {},
     "output_type": "execute_result"
    }
   ],
   "source": [
    "project_data.tail()"
   ]
  },
  {
   "cell_type": "code",
   "execution_count": 8,
   "metadata": {},
   "outputs": [
    {
     "name": "stdout",
     "output_type": "stream",
     "text": [
      "('LongTan', 2020, 1, 6, 15, 1.6, 0.49, 51, 52, 17.0, 3.0, 14.0, 2.2, 267, 21.6, 0, 2, 74.0, 250, 38)\n"
     ]
    }
   ],
   "source": [
    "#Connect MySQL\n",
    "db = pymysql.connect(host='localhost', port=3306, user='root', db='Air_pollution', charset='utf8')\n",
    "cursor = db.cursor()\n",
    "\n",
    "cursor.execute(\"SELECT Station,Year,Month,Day,Time,SO2,CO,O3,PM10,NOx,NO,NO2,WIND_SPEED,WIND_DIREC,AMB_TEMP,RAINFALL,RH,WS_HR,WD_HR,PM25 FROM LongTan_real_time_2020 ORDER BY ID DESC LIMIT 1\")\n",
    "#cursor.execute(\"select * from LongTan_real_time_2020 ORDER BY ID DESC LIMIT 1\")\n",
    "\n",
    "#Fetch data\n",
    "LongTan_real_time_2020 = cursor.fetchone()\n",
    "\n",
    "#Close connection\n",
    "db.close()\n",
    "\n",
    "print(LongTan_real_time_2020)"
   ]
  },
  {
   "cell_type": "code",
   "execution_count": 9,
   "metadata": {},
   "outputs": [
    {
     "data": {
      "text/plain": [
       "tuple"
      ]
     },
     "execution_count": 9,
     "metadata": {},
     "output_type": "execute_result"
    }
   ],
   "source": [
    "#Show type of LongTan_real_time_2020\n",
    "type(LongTan_real_time_2020)"
   ]
  },
  {
   "cell_type": "code",
   "execution_count": 10,
   "metadata": {},
   "outputs": [],
   "source": [
    "#Convert tuple to list\n",
    "LongTan_real_time_2020 = list(LongTan_real_time_2020)"
   ]
  },
  {
   "cell_type": "code",
   "execution_count": 11,
   "metadata": {},
   "outputs": [],
   "source": [
    "#Show MySQL column name\n",
    "num_fields = len(cursor.description)\n",
    "field_names = [i[0] for i in cursor.description]"
   ]
  },
  {
   "cell_type": "code",
   "execution_count": 12,
   "metadata": {},
   "outputs": [
    {
     "data": {
      "text/plain": [
       "list"
      ]
     },
     "execution_count": 12,
     "metadata": {},
     "output_type": "execute_result"
    }
   ],
   "source": [
    "type(field_names)"
   ]
  },
  {
   "cell_type": "code",
   "execution_count": 13,
   "metadata": {},
   "outputs": [],
   "source": [
    "#Convert list to dictionary\n",
    "#Convert dictionary to dataframe\n",
    "list_dict = zip(field_names, LongTan_real_time_2020)\n",
    "dict_dataframe = dict(list_dict)\n",
    "df_complete = pd.DataFrame([dict_dataframe ])"
   ]
  },
  {
   "cell_type": "code",
   "execution_count": 14,
   "metadata": {},
   "outputs": [
    {
     "data": {
      "text/html": [
       "<div>\n",
       "<style scoped>\n",
       "    .dataframe tbody tr th:only-of-type {\n",
       "        vertical-align: middle;\n",
       "    }\n",
       "\n",
       "    .dataframe tbody tr th {\n",
       "        vertical-align: top;\n",
       "    }\n",
       "\n",
       "    .dataframe thead th {\n",
       "        text-align: right;\n",
       "    }\n",
       "</style>\n",
       "<table border=\"1\" class=\"dataframe\">\n",
       "  <thead>\n",
       "    <tr style=\"text-align: right;\">\n",
       "      <th></th>\n",
       "      <th>AMB_TEMP</th>\n",
       "      <th>CO</th>\n",
       "      <th>Day</th>\n",
       "      <th>Month</th>\n",
       "      <th>NO</th>\n",
       "      <th>NO2</th>\n",
       "      <th>NOx</th>\n",
       "      <th>O3</th>\n",
       "      <th>PM10</th>\n",
       "      <th>PM25</th>\n",
       "      <th>RAINFALL</th>\n",
       "      <th>RH</th>\n",
       "      <th>SO2</th>\n",
       "      <th>Station</th>\n",
       "      <th>Time</th>\n",
       "      <th>WD_HR</th>\n",
       "      <th>WIND_DIREC</th>\n",
       "      <th>WIND_SPEED</th>\n",
       "      <th>WS_HR</th>\n",
       "      <th>Year</th>\n",
       "    </tr>\n",
       "  </thead>\n",
       "  <tbody>\n",
       "    <tr>\n",
       "      <th>0</th>\n",
       "      <td>21.6</td>\n",
       "      <td>0.49</td>\n",
       "      <td>6</td>\n",
       "      <td>1</td>\n",
       "      <td>3.0</td>\n",
       "      <td>14.0</td>\n",
       "      <td>17.0</td>\n",
       "      <td>51</td>\n",
       "      <td>52</td>\n",
       "      <td>38</td>\n",
       "      <td>0</td>\n",
       "      <td>2</td>\n",
       "      <td>1.6</td>\n",
       "      <td>LongTan</td>\n",
       "      <td>15</td>\n",
       "      <td>250</td>\n",
       "      <td>267</td>\n",
       "      <td>2.2</td>\n",
       "      <td>74.0</td>\n",
       "      <td>2020</td>\n",
       "    </tr>\n",
       "  </tbody>\n",
       "</table>\n",
       "</div>"
      ],
      "text/plain": [
       "   AMB_TEMP    CO  Day  Month   NO   NO2   NOx  O3  PM10  PM25  RAINFALL  RH  \\\n",
       "0      21.6  0.49    6      1  3.0  14.0  17.0  51    52    38         0   2   \n",
       "\n",
       "   SO2  Station  Time  WD_HR  WIND_DIREC  WIND_SPEED  WS_HR  Year  \n",
       "0  1.6  LongTan    15    250         267         2.2   74.0  2020  "
      ]
     },
     "execution_count": 14,
     "metadata": {},
     "output_type": "execute_result"
    }
   ],
   "source": [
    "df_complete"
   ]
  },
  {
   "cell_type": "code",
   "execution_count": 15,
   "metadata": {},
   "outputs": [],
   "source": [
    "df_complete = df_complete[['Station',\n",
    " 'Year',\n",
    " 'Month',\n",
    " 'Day',\n",
    " 'Time',\n",
    " 'AMB_TEMP',\n",
    " 'CO',\n",
    " 'NO',\n",
    " 'NOx',\n",
    " 'O3',\n",
    " 'PM10',\n",
    " 'PM25',\n",
    " 'RAINFALL',\n",
    " 'RH',\n",
    " 'SO2',\n",
    " 'WD_HR',\n",
    " 'WIND_DIREC',\n",
    " 'WIND_SPEED',\n",
    " 'WS_HR']]"
   ]
  },
  {
   "cell_type": "code",
   "execution_count": 16,
   "metadata": {
    "scrolled": true
   },
   "outputs": [
    {
     "data": {
      "text/html": [
       "<div>\n",
       "<style scoped>\n",
       "    .dataframe tbody tr th:only-of-type {\n",
       "        vertical-align: middle;\n",
       "    }\n",
       "\n",
       "    .dataframe tbody tr th {\n",
       "        vertical-align: top;\n",
       "    }\n",
       "\n",
       "    .dataframe thead th {\n",
       "        text-align: right;\n",
       "    }\n",
       "</style>\n",
       "<table border=\"1\" class=\"dataframe\">\n",
       "  <thead>\n",
       "    <tr style=\"text-align: right;\">\n",
       "      <th></th>\n",
       "      <th>Station</th>\n",
       "      <th>Year</th>\n",
       "      <th>Month</th>\n",
       "      <th>Day</th>\n",
       "      <th>Time</th>\n",
       "      <th>AMB_TEMP</th>\n",
       "      <th>CO</th>\n",
       "      <th>NO</th>\n",
       "      <th>NOx</th>\n",
       "      <th>O3</th>\n",
       "      <th>PM10</th>\n",
       "      <th>PM25</th>\n",
       "      <th>RAINFALL</th>\n",
       "      <th>RH</th>\n",
       "      <th>SO2</th>\n",
       "      <th>WD_HR</th>\n",
       "      <th>WIND_DIREC</th>\n",
       "      <th>WIND_SPEED</th>\n",
       "      <th>WS_HR</th>\n",
       "    </tr>\n",
       "  </thead>\n",
       "  <tbody>\n",
       "    <tr>\n",
       "      <th>0</th>\n",
       "      <td>LongTan</td>\n",
       "      <td>2020</td>\n",
       "      <td>1</td>\n",
       "      <td>6</td>\n",
       "      <td>15</td>\n",
       "      <td>21.6</td>\n",
       "      <td>0.49</td>\n",
       "      <td>3.0</td>\n",
       "      <td>17.0</td>\n",
       "      <td>51</td>\n",
       "      <td>52</td>\n",
       "      <td>38</td>\n",
       "      <td>0</td>\n",
       "      <td>2</td>\n",
       "      <td>1.6</td>\n",
       "      <td>250</td>\n",
       "      <td>267</td>\n",
       "      <td>2.2</td>\n",
       "      <td>74.0</td>\n",
       "    </tr>\n",
       "  </tbody>\n",
       "</table>\n",
       "</div>"
      ],
      "text/plain": [
       "   Station  Year  Month  Day  Time  AMB_TEMP    CO   NO   NOx  O3  PM10  PM25  \\\n",
       "0  LongTan  2020      1    6    15      21.6  0.49  3.0  17.0  51    52    38   \n",
       "\n",
       "   RAINFALL  RH  SO2  WD_HR  WIND_DIREC  WIND_SPEED  WS_HR  \n",
       "0         0   2  1.6    250         267         2.2   74.0  "
      ]
     },
     "execution_count": 16,
     "metadata": {},
     "output_type": "execute_result"
    }
   ],
   "source": [
    "df_complete"
   ]
  },
  {
   "cell_type": "code",
   "execution_count": 17,
   "metadata": {},
   "outputs": [
    {
     "data": {
      "text/html": [
       "<div>\n",
       "<style scoped>\n",
       "    .dataframe tbody tr th:only-of-type {\n",
       "        vertical-align: middle;\n",
       "    }\n",
       "\n",
       "    .dataframe tbody tr th {\n",
       "        vertical-align: top;\n",
       "    }\n",
       "\n",
       "    .dataframe thead th {\n",
       "        text-align: right;\n",
       "    }\n",
       "</style>\n",
       "<table border=\"1\" class=\"dataframe\">\n",
       "  <thead>\n",
       "    <tr style=\"text-align: right;\">\n",
       "      <th></th>\n",
       "      <th>Station</th>\n",
       "      <th>Year</th>\n",
       "      <th>Month</th>\n",
       "      <th>Day</th>\n",
       "      <th>Time</th>\n",
       "      <th>AMB_TEMP</th>\n",
       "      <th>CO</th>\n",
       "      <th>NO</th>\n",
       "      <th>NOx</th>\n",
       "      <th>O3</th>\n",
       "      <th>PM10</th>\n",
       "      <th>PM2.5</th>\n",
       "      <th>RAINFALL</th>\n",
       "      <th>RH</th>\n",
       "      <th>SO2</th>\n",
       "      <th>WD_HR</th>\n",
       "      <th>WIND_DIREC</th>\n",
       "      <th>WIND_SPEED</th>\n",
       "      <th>WS_HR</th>\n",
       "    </tr>\n",
       "  </thead>\n",
       "  <tbody>\n",
       "    <tr>\n",
       "      <th>0</th>\n",
       "      <td>LongTan</td>\n",
       "      <td>2020</td>\n",
       "      <td>1</td>\n",
       "      <td>6</td>\n",
       "      <td>15</td>\n",
       "      <td>21.6</td>\n",
       "      <td>0.49</td>\n",
       "      <td>3.0</td>\n",
       "      <td>17.0</td>\n",
       "      <td>51</td>\n",
       "      <td>52</td>\n",
       "      <td>38</td>\n",
       "      <td>0</td>\n",
       "      <td>2</td>\n",
       "      <td>1.6</td>\n",
       "      <td>250</td>\n",
       "      <td>267</td>\n",
       "      <td>2.2</td>\n",
       "      <td>74.0</td>\n",
       "    </tr>\n",
       "  </tbody>\n",
       "</table>\n",
       "</div>"
      ],
      "text/plain": [
       "   Station  Year  Month  Day  Time  AMB_TEMP    CO   NO   NOx  O3  PM10  \\\n",
       "0  LongTan  2020      1    6    15      21.6  0.49  3.0  17.0  51    52   \n",
       "\n",
       "   PM2.5  RAINFALL  RH  SO2  WD_HR  WIND_DIREC  WIND_SPEED  WS_HR  \n",
       "0     38         0   2  1.6    250         267         2.2   74.0  "
      ]
     },
     "execution_count": 17,
     "metadata": {},
     "output_type": "execute_result"
    }
   ],
   "source": [
    "df_complete = df_complete.rename(columns={\"PM25\": \"PM2.5\"})\n",
    "df_complete"
   ]
  },
  {
   "cell_type": "code",
   "execution_count": 18,
   "metadata": {},
   "outputs": [],
   "source": [
    "df_complete['WD_HR'] = np.where(df_complete['WD_HR'].between(0,22.5),1, df_complete['WD_HR'])\n",
    "df_complete['WD_HR'] = np.where(df_complete['WD_HR'].between(22.5,67.5),2, df_complete['WD_HR'])\n",
    "df_complete['WD_HR'] = np.where(df_complete['WD_HR'].between(67.5,112.5),3, df_complete['WD_HR'])\n",
    "df_complete['WD_HR'] = np.where(df_complete['WD_HR'].between(112.5,157.5),4, df_complete['WD_HR'])\n",
    "df_complete['WD_HR'] = np.where(df_complete['WD_HR'].between(157.5,202.5),5, df_complete['WD_HR'])\n",
    "df_complete['WD_HR'] = np.where(df_complete['WD_HR'].between(202.5,247.5),6, df_complete['WD_HR'])\n",
    "df_complete['WD_HR'] = np.where(df_complete['WD_HR'].between(247.5,292.5),7, df_complete['WD_HR'])\n",
    "df_complete['WD_HR'] = np.where(df_complete['WD_HR'].between(292.5,337.5),8, df_complete['WD_HR'])\n",
    "df_complete['WD_HR'] = df_complete['WD_HR'].mask(df_complete['WD_HR'] > 337.5, 1)"
   ]
  },
  {
   "cell_type": "code",
   "execution_count": 19,
   "metadata": {},
   "outputs": [],
   "source": [
    "#Convert WIND_DIREC to 8 degree\n",
    "df_complete['WIND_DIREC'] = np.where(df_complete['WIND_DIREC'].between(0,22.5),1, df_complete['WIND_DIREC'])\n",
    "df_complete['WIND_DIREC'] = np.where(df_complete['WIND_DIREC'].between(22.5,67.5),2, df_complete['WIND_DIREC'])\n",
    "df_complete['WIND_DIREC'] = np.where(df_complete['WIND_DIREC'].between(67.5,112.5),3, df_complete['WIND_DIREC'])\n",
    "df_complete['WIND_DIREC'] = np.where(df_complete['WIND_DIREC'].between(112.5,157.5),4, df_complete['WIND_DIREC'])\n",
    "df_complete['WIND_DIREC'] = np.where(df_complete['WIND_DIREC'].between(157.5,202.5),5, df_complete['WIND_DIREC'])\n",
    "df_complete['WIND_DIREC'] = np.where(df_complete['WIND_DIREC'].between(202.5,247.5),6, df_complete['WIND_DIREC'])\n",
    "df_complete['WIND_DIREC'] = np.where(df_complete['WIND_DIREC'].between(247.5,292.5),7, df_complete['WIND_DIREC'])\n",
    "df_complete['WIND_DIREC'] = np.where(df_complete['WIND_DIREC'].between(292.5,337.5),8, df_complete['WIND_DIREC'])\n",
    "df_complete['WIND_DIREC'] = df_complete['WIND_DIREC'].mask(df_complete['WIND_DIREC'] > 337.5, 1)"
   ]
  },
  {
   "cell_type": "code",
   "execution_count": 20,
   "metadata": {},
   "outputs": [],
   "source": [
    "#Convert WIND_SPEED to 4 degree\n",
    "df_complete['WIND_SPEED'] = np.where(df_complete['WIND_SPEED'].between(0,0.3),1, df_complete['WIND_SPEED'])\n",
    "df_complete['WIND_SPEED'] = np.where(df_complete['WIND_SPEED'].between(0.3,3.4),2, df_complete['WIND_SPEED'])\n",
    "df_complete['WIND_SPEED'] = np.where(df_complete['WIND_SPEED'].between(3.4,8),3, df_complete['WIND_SPEED'])\n",
    "df_complete['WIND_SPEED'] = df_complete['WIND_SPEED'].mask(df_complete['WIND_SPEED'] > 8, 4)"
   ]
  },
  {
   "cell_type": "code",
   "execution_count": 21,
   "metadata": {},
   "outputs": [],
   "source": [
    "#Convert WS_HR to 4 degree\n",
    "df_complete['WS_HR'] = np.where(df_complete['WS_HR'].between(0,0.3),1, df_complete['WS_HR'])\n",
    "df_complete['WS_HR'] = np.where(df_complete['WS_HR'].between(0.3,3.4),2, df_complete['WS_HR'])\n",
    "df_complete['WS_HR'] = np.where(df_complete['WS_HR'].between(3.4,8),3, df_complete['WS_HR'])\n",
    "df_complete['WS_HR'] = df_complete['WS_HR'].mask(df_complete['WS_HR'] > 8, 4)"
   ]
  },
  {
   "cell_type": "code",
   "execution_count": 22,
   "metadata": {},
   "outputs": [],
   "source": [
    "#Convert type to integer because of one hot encoding \n",
    "df_complete['WS_HR']= df_complete['WS_HR'].round(0).astype(int)\n",
    "df_complete['WD_HR']= df_complete['WD_HR'].round(0).astype(int)\n",
    "df_complete['WIND_DIREC']= df_complete['WIND_DIREC'].round(0).astype(int)\n",
    "df_complete['WIND_SPEED']= df_complete['WIND_SPEED'].round(0).astype(int)"
   ]
  },
  {
   "cell_type": "code",
   "execution_count": 23,
   "metadata": {},
   "outputs": [],
   "source": [
    "#One hot encoding\n",
    "df_complete_WD_HR_OHE = pd.get_dummies(df_complete['WD_HR'],prefix=['WD_HR_OHE'])\n",
    "df_complete_WIND_DIREC_OHE = pd.get_dummies(df_complete['WIND_DIREC'],prefix=['WIND_DIREC_OHE'])\n",
    "df_complete_WIND_SPEED_OHE = pd.get_dummies(df_complete['WIND_SPEED'],prefix=['WIND_SPEED_OHE'])\n",
    "df_complete_WS_HR_OHE = pd.get_dummies(df_complete['WS_HR'],prefix=['WS_HR_OHE'])"
   ]
  },
  {
   "cell_type": "code",
   "execution_count": 24,
   "metadata": {},
   "outputs": [
    {
     "data": {
      "text/html": [
       "<div>\n",
       "<style scoped>\n",
       "    .dataframe tbody tr th:only-of-type {\n",
       "        vertical-align: middle;\n",
       "    }\n",
       "\n",
       "    .dataframe tbody tr th {\n",
       "        vertical-align: top;\n",
       "    }\n",
       "\n",
       "    .dataframe thead th {\n",
       "        text-align: right;\n",
       "    }\n",
       "</style>\n",
       "<table border=\"1\" class=\"dataframe\">\n",
       "  <thead>\n",
       "    <tr style=\"text-align: right;\">\n",
       "      <th></th>\n",
       "      <th>Station</th>\n",
       "      <th>Year</th>\n",
       "      <th>Month</th>\n",
       "      <th>Day</th>\n",
       "      <th>Time</th>\n",
       "      <th>AMB_TEMP</th>\n",
       "      <th>CO</th>\n",
       "      <th>NO</th>\n",
       "      <th>NOx</th>\n",
       "      <th>O3</th>\n",
       "      <th>PM10</th>\n",
       "      <th>PM2.5</th>\n",
       "      <th>RAINFALL</th>\n",
       "      <th>RH</th>\n",
       "      <th>SO2</th>\n",
       "      <th>WD_HR</th>\n",
       "      <th>WIND_DIREC</th>\n",
       "      <th>WIND_SPEED</th>\n",
       "      <th>WS_HR</th>\n",
       "    </tr>\n",
       "  </thead>\n",
       "  <tbody>\n",
       "    <tr>\n",
       "      <th>0</th>\n",
       "      <td>LongTan</td>\n",
       "      <td>2020</td>\n",
       "      <td>1</td>\n",
       "      <td>6</td>\n",
       "      <td>15</td>\n",
       "      <td>21.6</td>\n",
       "      <td>0.49</td>\n",
       "      <td>3.0</td>\n",
       "      <td>17.0</td>\n",
       "      <td>51</td>\n",
       "      <td>52</td>\n",
       "      <td>38</td>\n",
       "      <td>0</td>\n",
       "      <td>2</td>\n",
       "      <td>1.6</td>\n",
       "      <td>7</td>\n",
       "      <td>7</td>\n",
       "      <td>2</td>\n",
       "      <td>4</td>\n",
       "    </tr>\n",
       "  </tbody>\n",
       "</table>\n",
       "</div>"
      ],
      "text/plain": [
       "   Station  Year  Month  Day  Time  AMB_TEMP    CO   NO   NOx  O3  PM10  \\\n",
       "0  LongTan  2020      1    6    15      21.6  0.49  3.0  17.0  51    52   \n",
       "\n",
       "   PM2.5  RAINFALL  RH  SO2  WD_HR  WIND_DIREC  WIND_SPEED  WS_HR  \n",
       "0     38         0   2  1.6      7           7           2      4  "
      ]
     },
     "execution_count": 24,
     "metadata": {},
     "output_type": "execute_result"
    }
   ],
   "source": [
    "df_complete"
   ]
  },
  {
   "cell_type": "code",
   "execution_count": 25,
   "metadata": {},
   "outputs": [],
   "source": [
    "#Create a list and insert column name \n",
    "create_OHE_WD_HR_column_name = (\"['WD_HR_OHE']_1\",\n",
    " \"['WD_HR_OHE']_2\",\n",
    " \"['WD_HR_OHE']_3\",\n",
    " \"['WD_HR_OHE']_4\",\n",
    " \"['WD_HR_OHE']_5\",\n",
    " \"['WD_HR_OHE']_6\",\n",
    " \"['WD_HR_OHE']_7\",\n",
    " \"['WD_HR_OHE']_8\",\n",
    ")"
   ]
  },
  {
   "cell_type": "code",
   "execution_count": 26,
   "metadata": {},
   "outputs": [],
   "source": [
    "#Convert type\n",
    "create_OHE_WD_HR_column_name = list(create_OHE_WD_HR_column_name)"
   ]
  },
  {
   "cell_type": "code",
   "execution_count": 27,
   "metadata": {},
   "outputs": [],
   "source": [
    "#Create zero*7 list and return a list with 8 values\n",
    "def display(value):\n",
    "    s1 = [0]*7 \n",
    "    s1.insert(value-1,1)\n",
    "    return s1"
   ]
  },
  {
   "cell_type": "code",
   "execution_count": 28,
   "metadata": {},
   "outputs": [],
   "source": [
    "#Fetch value to insert function\n",
    "WD_HR_OHE_list_value = display(df_complete.iloc[0,15])"
   ]
  },
  {
   "cell_type": "code",
   "execution_count": 29,
   "metadata": {},
   "outputs": [],
   "source": [
    "#Convert list to dictionary\n",
    "#Convert dictionary to dataframe\n",
    "OHE_WD_HR_list_dict = zip(create_OHE_WD_HR_column_name , WD_HR_OHE_list_value)\n",
    "OHE_WD_HR_dict_dataframe = dict(OHE_WD_HR_list_dict)\n",
    "OHE_WD_HR_complete = pd.DataFrame([OHE_WD_HR_dict_dataframe])"
   ]
  },
  {
   "cell_type": "code",
   "execution_count": 30,
   "metadata": {},
   "outputs": [
    {
     "data": {
      "text/html": [
       "<div>\n",
       "<style scoped>\n",
       "    .dataframe tbody tr th:only-of-type {\n",
       "        vertical-align: middle;\n",
       "    }\n",
       "\n",
       "    .dataframe tbody tr th {\n",
       "        vertical-align: top;\n",
       "    }\n",
       "\n",
       "    .dataframe thead th {\n",
       "        text-align: right;\n",
       "    }\n",
       "</style>\n",
       "<table border=\"1\" class=\"dataframe\">\n",
       "  <thead>\n",
       "    <tr style=\"text-align: right;\">\n",
       "      <th></th>\n",
       "      <th>['WD_HR_OHE']_1</th>\n",
       "      <th>['WD_HR_OHE']_2</th>\n",
       "      <th>['WD_HR_OHE']_3</th>\n",
       "      <th>['WD_HR_OHE']_4</th>\n",
       "      <th>['WD_HR_OHE']_5</th>\n",
       "      <th>['WD_HR_OHE']_6</th>\n",
       "      <th>['WD_HR_OHE']_7</th>\n",
       "      <th>['WD_HR_OHE']_8</th>\n",
       "    </tr>\n",
       "  </thead>\n",
       "  <tbody>\n",
       "    <tr>\n",
       "      <th>0</th>\n",
       "      <td>0</td>\n",
       "      <td>0</td>\n",
       "      <td>0</td>\n",
       "      <td>0</td>\n",
       "      <td>0</td>\n",
       "      <td>0</td>\n",
       "      <td>1</td>\n",
       "      <td>0</td>\n",
       "    </tr>\n",
       "  </tbody>\n",
       "</table>\n",
       "</div>"
      ],
      "text/plain": [
       "   ['WD_HR_OHE']_1  ['WD_HR_OHE']_2  ['WD_HR_OHE']_3  ['WD_HR_OHE']_4  \\\n",
       "0                0                0                0                0   \n",
       "\n",
       "   ['WD_HR_OHE']_5  ['WD_HR_OHE']_6  ['WD_HR_OHE']_7  ['WD_HR_OHE']_8  \n",
       "0                0                0                1                0  "
      ]
     },
     "execution_count": 30,
     "metadata": {},
     "output_type": "execute_result"
    }
   ],
   "source": [
    "#Show dataframe\n",
    "OHE_WD_HR_complete"
   ]
  },
  {
   "cell_type": "code",
   "execution_count": 31,
   "metadata": {},
   "outputs": [],
   "source": [
    "#Create a list and insert column name \n",
    "create_OHE_WIND_DIREC_column_name= (\"['WIND_DIREC_OHE']_1\",\n",
    " \"['WIND_DIREC_OHE']_2\",\n",
    " \"['WIND_DIREC_OHE']_3\",\n",
    " \"['WIND_DIREC_OHE']_4\",\n",
    " \"['WIND_DIREC_OHE']_5\",\n",
    " \"['WIND_DIREC_OHE']_6\",\n",
    " \"['WIND_DIREC_OHE']_7\",\n",
    " \"['WIND_DIREC_OHE']_8\",\n",
    ")"
   ]
  },
  {
   "cell_type": "code",
   "execution_count": 32,
   "metadata": {},
   "outputs": [],
   "source": [
    "#Convert type\n",
    "create_OHE_WIND_DIREC_column_name = list(create_OHE_WIND_DIREC_column_name)"
   ]
  },
  {
   "cell_type": "code",
   "execution_count": 33,
   "metadata": {},
   "outputs": [],
   "source": [
    "#Fetch value to insert function\n",
    "WIND_DIREC_OHE_list_value = display(df_complete.iloc[0,16])"
   ]
  },
  {
   "cell_type": "code",
   "execution_count": 34,
   "metadata": {},
   "outputs": [],
   "source": [
    "#Convert list to dictionary\n",
    "#Convert dictionary to dataframe\n",
    "OHE_WIND_DIREC_list_dict = zip(create_OHE_WIND_DIREC_column_name , WIND_DIREC_OHE_list_value)\n",
    "OHE_WIND_DIREC_dict_dataframe = dict(OHE_WIND_DIREC_list_dict)\n",
    "OHE_WIND_DIREC_complete = pd.DataFrame([OHE_WIND_DIREC_dict_dataframe])"
   ]
  },
  {
   "cell_type": "code",
   "execution_count": 35,
   "metadata": {},
   "outputs": [
    {
     "data": {
      "text/html": [
       "<div>\n",
       "<style scoped>\n",
       "    .dataframe tbody tr th:only-of-type {\n",
       "        vertical-align: middle;\n",
       "    }\n",
       "\n",
       "    .dataframe tbody tr th {\n",
       "        vertical-align: top;\n",
       "    }\n",
       "\n",
       "    .dataframe thead th {\n",
       "        text-align: right;\n",
       "    }\n",
       "</style>\n",
       "<table border=\"1\" class=\"dataframe\">\n",
       "  <thead>\n",
       "    <tr style=\"text-align: right;\">\n",
       "      <th></th>\n",
       "      <th>['WIND_DIREC_OHE']_1</th>\n",
       "      <th>['WIND_DIREC_OHE']_2</th>\n",
       "      <th>['WIND_DIREC_OHE']_3</th>\n",
       "      <th>['WIND_DIREC_OHE']_4</th>\n",
       "      <th>['WIND_DIREC_OHE']_5</th>\n",
       "      <th>['WIND_DIREC_OHE']_6</th>\n",
       "      <th>['WIND_DIREC_OHE']_7</th>\n",
       "      <th>['WIND_DIREC_OHE']_8</th>\n",
       "    </tr>\n",
       "  </thead>\n",
       "  <tbody>\n",
       "    <tr>\n",
       "      <th>0</th>\n",
       "      <td>0</td>\n",
       "      <td>0</td>\n",
       "      <td>0</td>\n",
       "      <td>0</td>\n",
       "      <td>0</td>\n",
       "      <td>0</td>\n",
       "      <td>1</td>\n",
       "      <td>0</td>\n",
       "    </tr>\n",
       "  </tbody>\n",
       "</table>\n",
       "</div>"
      ],
      "text/plain": [
       "   ['WIND_DIREC_OHE']_1  ['WIND_DIREC_OHE']_2  ['WIND_DIREC_OHE']_3  \\\n",
       "0                     0                     0                     0   \n",
       "\n",
       "   ['WIND_DIREC_OHE']_4  ['WIND_DIREC_OHE']_5  ['WIND_DIREC_OHE']_6  \\\n",
       "0                     0                     0                     0   \n",
       "\n",
       "   ['WIND_DIREC_OHE']_7  ['WIND_DIREC_OHE']_8  \n",
       "0                     1                     0  "
      ]
     },
     "execution_count": 35,
     "metadata": {},
     "output_type": "execute_result"
    }
   ],
   "source": [
    "#Show dataframe\n",
    "OHE_WIND_DIREC_complete "
   ]
  },
  {
   "cell_type": "code",
   "execution_count": 36,
   "metadata": {},
   "outputs": [],
   "source": [
    "#Create a list and insert column name \n",
    "create_OHE_WIND_SPEED_column_name = (\"['WIND_SPEED_OHE']_2\",\n",
    " \"['WIND_SPEED_OHE']_3\",\n",
    " \"['WIND_SPEED_OHE']_4\",\n",
    ")"
   ]
  },
  {
   "cell_type": "code",
   "execution_count": 37,
   "metadata": {},
   "outputs": [],
   "source": [
    "#Convert type\n",
    "create_OHE_WIND_SPEED_column_name = list(create_OHE_WIND_SPEED_column_name)"
   ]
  },
  {
   "cell_type": "code",
   "execution_count": 38,
   "metadata": {},
   "outputs": [],
   "source": [
    "#As never have 1 at ['WIND_SPEED_OHE']_1 in history\n",
    "def display_(value):\n",
    "    if value != 1:\n",
    "        s1 = [0]*2 \n",
    "        s1.insert(value-2,1)\n",
    "    else:\n",
    "        s1 = [0]*3\n",
    "    return s1"
   ]
  },
  {
   "cell_type": "code",
   "execution_count": 39,
   "metadata": {},
   "outputs": [],
   "source": [
    "#Fetch value to insert function\n",
    "WIND_SPEED_OHE_list_value = display_(df_complete.iloc[0,17])"
   ]
  },
  {
   "cell_type": "code",
   "execution_count": 40,
   "metadata": {},
   "outputs": [],
   "source": [
    "#Convert list to dictionary\n",
    "#Convert dictionary to dataframe\n",
    "OHE_WIND_SPEED_list_dict = zip(create_OHE_WIND_SPEED_column_name , WIND_SPEED_OHE_list_value)\n",
    "OHE_WIND_SPEED_dict_dataframe = dict(OHE_WIND_SPEED_list_dict)\n",
    "OHE_WIND_SPEED_complete = pd.DataFrame([OHE_WIND_SPEED_dict_dataframe])"
   ]
  },
  {
   "cell_type": "code",
   "execution_count": 41,
   "metadata": {},
   "outputs": [
    {
     "data": {
      "text/html": [
       "<div>\n",
       "<style scoped>\n",
       "    .dataframe tbody tr th:only-of-type {\n",
       "        vertical-align: middle;\n",
       "    }\n",
       "\n",
       "    .dataframe tbody tr th {\n",
       "        vertical-align: top;\n",
       "    }\n",
       "\n",
       "    .dataframe thead th {\n",
       "        text-align: right;\n",
       "    }\n",
       "</style>\n",
       "<table border=\"1\" class=\"dataframe\">\n",
       "  <thead>\n",
       "    <tr style=\"text-align: right;\">\n",
       "      <th></th>\n",
       "      <th>['WIND_SPEED_OHE']_2</th>\n",
       "      <th>['WIND_SPEED_OHE']_3</th>\n",
       "      <th>['WIND_SPEED_OHE']_4</th>\n",
       "    </tr>\n",
       "  </thead>\n",
       "  <tbody>\n",
       "    <tr>\n",
       "      <th>0</th>\n",
       "      <td>1</td>\n",
       "      <td>0</td>\n",
       "      <td>0</td>\n",
       "    </tr>\n",
       "  </tbody>\n",
       "</table>\n",
       "</div>"
      ],
      "text/plain": [
       "   ['WIND_SPEED_OHE']_2  ['WIND_SPEED_OHE']_3  ['WIND_SPEED_OHE']_4\n",
       "0                     1                     0                     0"
      ]
     },
     "execution_count": 41,
     "metadata": {},
     "output_type": "execute_result"
    }
   ],
   "source": [
    "OHE_WIND_SPEED_complete "
   ]
  },
  {
   "cell_type": "code",
   "execution_count": 42,
   "metadata": {},
   "outputs": [],
   "source": [
    "#Create a list and insert column name \n",
    "create_OHE_WS_HR_column_name = (\"['WS_HR_OHE']_2\",\n",
    " \"['WS_HR_OHE']_3\",\n",
    " \"['WS_HR_OHE']_4\"\n",
    ")"
   ]
  },
  {
   "cell_type": "code",
   "execution_count": 43,
   "metadata": {},
   "outputs": [],
   "source": [
    "#Convert type\n",
    "create_OHE_WS_HR_column_name = list(create_OHE_WS_HR_column_name)"
   ]
  },
  {
   "cell_type": "code",
   "execution_count": 44,
   "metadata": {},
   "outputs": [],
   "source": [
    "#Fetch value to insert function\n",
    "WS_HR_OHE_list_value = display_(df_complete.iloc[0,18])"
   ]
  },
  {
   "cell_type": "code",
   "execution_count": 45,
   "metadata": {},
   "outputs": [],
   "source": [
    "#Convert list to dictionary\n",
    "#Convert dictionary to dataframe\n",
    "OHE_WS_HR_list_dict = zip(create_OHE_WS_HR_column_name , WS_HR_OHE_list_value)\n",
    "OHE_WS_HR_dict_dataframe = dict(OHE_WS_HR_list_dict)\n",
    "OHE_WS_HR_complete = pd.DataFrame([OHE_WS_HR_dict_dataframe ])"
   ]
  },
  {
   "cell_type": "code",
   "execution_count": 46,
   "metadata": {},
   "outputs": [
    {
     "data": {
      "text/html": [
       "<div>\n",
       "<style scoped>\n",
       "    .dataframe tbody tr th:only-of-type {\n",
       "        vertical-align: middle;\n",
       "    }\n",
       "\n",
       "    .dataframe tbody tr th {\n",
       "        vertical-align: top;\n",
       "    }\n",
       "\n",
       "    .dataframe thead th {\n",
       "        text-align: right;\n",
       "    }\n",
       "</style>\n",
       "<table border=\"1\" class=\"dataframe\">\n",
       "  <thead>\n",
       "    <tr style=\"text-align: right;\">\n",
       "      <th></th>\n",
       "      <th>['WS_HR_OHE']_2</th>\n",
       "      <th>['WS_HR_OHE']_3</th>\n",
       "      <th>['WS_HR_OHE']_4</th>\n",
       "    </tr>\n",
       "  </thead>\n",
       "  <tbody>\n",
       "    <tr>\n",
       "      <th>0</th>\n",
       "      <td>0</td>\n",
       "      <td>0</td>\n",
       "      <td>1</td>\n",
       "    </tr>\n",
       "  </tbody>\n",
       "</table>\n",
       "</div>"
      ],
      "text/plain": [
       "   ['WS_HR_OHE']_2  ['WS_HR_OHE']_3  ['WS_HR_OHE']_4\n",
       "0                0                0                1"
      ]
     },
     "execution_count": 46,
     "metadata": {},
     "output_type": "execute_result"
    }
   ],
   "source": [
    "OHE_WS_HR_complete"
   ]
  },
  {
   "cell_type": "code",
   "execution_count": 47,
   "metadata": {
    "scrolled": true
   },
   "outputs": [
    {
     "data": {
      "text/html": [
       "<div>\n",
       "<style scoped>\n",
       "    .dataframe tbody tr th:only-of-type {\n",
       "        vertical-align: middle;\n",
       "    }\n",
       "\n",
       "    .dataframe tbody tr th {\n",
       "        vertical-align: top;\n",
       "    }\n",
       "\n",
       "    .dataframe thead th {\n",
       "        text-align: right;\n",
       "    }\n",
       "</style>\n",
       "<table border=\"1\" class=\"dataframe\">\n",
       "  <thead>\n",
       "    <tr style=\"text-align: right;\">\n",
       "      <th></th>\n",
       "      <th>['WD_HR_OHE']_1</th>\n",
       "      <th>['WD_HR_OHE']_2</th>\n",
       "      <th>['WD_HR_OHE']_3</th>\n",
       "      <th>['WD_HR_OHE']_4</th>\n",
       "      <th>['WD_HR_OHE']_5</th>\n",
       "      <th>['WD_HR_OHE']_6</th>\n",
       "      <th>['WD_HR_OHE']_7</th>\n",
       "      <th>['WD_HR_OHE']_8</th>\n",
       "      <th>['WIND_DIREC_OHE']_1</th>\n",
       "      <th>['WIND_DIREC_OHE']_2</th>\n",
       "      <th>...</th>\n",
       "      <th>['WIND_DIREC_OHE']_5</th>\n",
       "      <th>['WIND_DIREC_OHE']_6</th>\n",
       "      <th>['WIND_DIREC_OHE']_7</th>\n",
       "      <th>['WIND_DIREC_OHE']_8</th>\n",
       "      <th>['WIND_SPEED_OHE']_2</th>\n",
       "      <th>['WIND_SPEED_OHE']_3</th>\n",
       "      <th>['WIND_SPEED_OHE']_4</th>\n",
       "      <th>['WS_HR_OHE']_2</th>\n",
       "      <th>['WS_HR_OHE']_3</th>\n",
       "      <th>['WS_HR_OHE']_4</th>\n",
       "    </tr>\n",
       "  </thead>\n",
       "  <tbody>\n",
       "    <tr>\n",
       "      <th>0</th>\n",
       "      <td>0</td>\n",
       "      <td>0</td>\n",
       "      <td>0</td>\n",
       "      <td>0</td>\n",
       "      <td>0</td>\n",
       "      <td>0</td>\n",
       "      <td>1</td>\n",
       "      <td>0</td>\n",
       "      <td>0</td>\n",
       "      <td>0</td>\n",
       "      <td>...</td>\n",
       "      <td>0</td>\n",
       "      <td>0</td>\n",
       "      <td>1</td>\n",
       "      <td>0</td>\n",
       "      <td>1</td>\n",
       "      <td>0</td>\n",
       "      <td>0</td>\n",
       "      <td>0</td>\n",
       "      <td>0</td>\n",
       "      <td>1</td>\n",
       "    </tr>\n",
       "  </tbody>\n",
       "</table>\n",
       "<p>1 rows × 22 columns</p>\n",
       "</div>"
      ],
      "text/plain": [
       "   ['WD_HR_OHE']_1  ['WD_HR_OHE']_2  ['WD_HR_OHE']_3  ['WD_HR_OHE']_4  \\\n",
       "0                0                0                0                0   \n",
       "\n",
       "   ['WD_HR_OHE']_5  ['WD_HR_OHE']_6  ['WD_HR_OHE']_7  ['WD_HR_OHE']_8  \\\n",
       "0                0                0                1                0   \n",
       "\n",
       "   ['WIND_DIREC_OHE']_1  ['WIND_DIREC_OHE']_2       ...         \\\n",
       "0                     0                     0       ...          \n",
       "\n",
       "   ['WIND_DIREC_OHE']_5  ['WIND_DIREC_OHE']_6  ['WIND_DIREC_OHE']_7  \\\n",
       "0                     0                     0                     1   \n",
       "\n",
       "   ['WIND_DIREC_OHE']_8  ['WIND_SPEED_OHE']_2  ['WIND_SPEED_OHE']_3  \\\n",
       "0                     0                     1                     0   \n",
       "\n",
       "   ['WIND_SPEED_OHE']_4  ['WS_HR_OHE']_2  ['WS_HR_OHE']_3  ['WS_HR_OHE']_4  \n",
       "0                     0                0                0                1  \n",
       "\n",
       "[1 rows x 22 columns]"
      ]
     },
     "execution_count": 47,
     "metadata": {},
     "output_type": "execute_result"
    }
   ],
   "source": [
    "#Concatenate dataframe after doing one hot encoding in each component\n",
    "Wind_OHE_df_complete = pd.concat([OHE_WD_HR_complete,OHE_WIND_DIREC_complete,OHE_WIND_SPEED_complete,OHE_WS_HR_complete], axis=1)\n",
    "Wind_OHE_df_complete "
   ]
  },
  {
   "cell_type": "code",
   "execution_count": 48,
   "metadata": {},
   "outputs": [
    {
     "data": {
      "text/html": [
       "<div>\n",
       "<style scoped>\n",
       "    .dataframe tbody tr th:only-of-type {\n",
       "        vertical-align: middle;\n",
       "    }\n",
       "\n",
       "    .dataframe tbody tr th {\n",
       "        vertical-align: top;\n",
       "    }\n",
       "\n",
       "    .dataframe thead th {\n",
       "        text-align: right;\n",
       "    }\n",
       "</style>\n",
       "<table border=\"1\" class=\"dataframe\">\n",
       "  <thead>\n",
       "    <tr style=\"text-align: right;\">\n",
       "      <th></th>\n",
       "      <th>Station</th>\n",
       "      <th>Year</th>\n",
       "      <th>Month</th>\n",
       "      <th>Day</th>\n",
       "      <th>Time</th>\n",
       "      <th>AMB_TEMP</th>\n",
       "      <th>CO</th>\n",
       "      <th>NO</th>\n",
       "      <th>NOx</th>\n",
       "      <th>O3</th>\n",
       "      <th>PM10</th>\n",
       "      <th>PM2.5</th>\n",
       "      <th>RAINFALL</th>\n",
       "      <th>RH</th>\n",
       "      <th>SO2</th>\n",
       "      <th>WD_HR</th>\n",
       "      <th>WIND_DIREC</th>\n",
       "      <th>WIND_SPEED</th>\n",
       "      <th>WS_HR</th>\n",
       "    </tr>\n",
       "  </thead>\n",
       "  <tbody>\n",
       "    <tr>\n",
       "      <th>0</th>\n",
       "      <td>LongTan</td>\n",
       "      <td>2020</td>\n",
       "      <td>1</td>\n",
       "      <td>6</td>\n",
       "      <td>15</td>\n",
       "      <td>21.6</td>\n",
       "      <td>0.49</td>\n",
       "      <td>3.0</td>\n",
       "      <td>17.0</td>\n",
       "      <td>51</td>\n",
       "      <td>52</td>\n",
       "      <td>38</td>\n",
       "      <td>0</td>\n",
       "      <td>2</td>\n",
       "      <td>1.6</td>\n",
       "      <td>7</td>\n",
       "      <td>7</td>\n",
       "      <td>2</td>\n",
       "      <td>4</td>\n",
       "    </tr>\n",
       "  </tbody>\n",
       "</table>\n",
       "</div>"
      ],
      "text/plain": [
       "   Station  Year  Month  Day  Time  AMB_TEMP    CO   NO   NOx  O3  PM10  \\\n",
       "0  LongTan  2020      1    6    15      21.6  0.49  3.0  17.0  51    52   \n",
       "\n",
       "   PM2.5  RAINFALL  RH  SO2  WD_HR  WIND_DIREC  WIND_SPEED  WS_HR  \n",
       "0     38         0   2  1.6      7           7           2      4  "
      ]
     },
     "execution_count": 48,
     "metadata": {},
     "output_type": "execute_result"
    }
   ],
   "source": [
    "df_complete"
   ]
  },
  {
   "cell_type": "code",
   "execution_count": 49,
   "metadata": {},
   "outputs": [
    {
     "data": {
      "text/html": [
       "<div>\n",
       "<style scoped>\n",
       "    .dataframe tbody tr th:only-of-type {\n",
       "        vertical-align: middle;\n",
       "    }\n",
       "\n",
       "    .dataframe tbody tr th {\n",
       "        vertical-align: top;\n",
       "    }\n",
       "\n",
       "    .dataframe thead th {\n",
       "        text-align: right;\n",
       "    }\n",
       "</style>\n",
       "<table border=\"1\" class=\"dataframe\">\n",
       "  <thead>\n",
       "    <tr style=\"text-align: right;\">\n",
       "      <th></th>\n",
       "      <th>AMB_TEMP</th>\n",
       "      <th>CO</th>\n",
       "      <th>NO</th>\n",
       "      <th>NOx</th>\n",
       "      <th>O3</th>\n",
       "      <th>PM10</th>\n",
       "      <th>PM2.5</th>\n",
       "      <th>RAINFALL</th>\n",
       "      <th>RH</th>\n",
       "      <th>SO2</th>\n",
       "    </tr>\n",
       "  </thead>\n",
       "  <tbody>\n",
       "    <tr>\n",
       "      <th>0</th>\n",
       "      <td>21.6</td>\n",
       "      <td>0.49</td>\n",
       "      <td>3.0</td>\n",
       "      <td>17.0</td>\n",
       "      <td>51</td>\n",
       "      <td>52</td>\n",
       "      <td>38</td>\n",
       "      <td>0</td>\n",
       "      <td>2</td>\n",
       "      <td>1.6</td>\n",
       "    </tr>\n",
       "  </tbody>\n",
       "</table>\n",
       "</div>"
      ],
      "text/plain": [
       "   AMB_TEMP    CO   NO   NOx  O3  PM10  PM2.5  RAINFALL  RH  SO2\n",
       "0      21.6  0.49  3.0  17.0  51    52     38         0   2  1.6"
      ]
     },
     "execution_count": 49,
     "metadata": {},
     "output_type": "execute_result"
    }
   ],
   "source": [
    "df_complete = df_complete.iloc[:,5:15]\n",
    "df_complete"
   ]
  },
  {
   "cell_type": "code",
   "execution_count": 50,
   "metadata": {},
   "outputs": [
    {
     "data": {
      "text/html": [
       "<div>\n",
       "<style scoped>\n",
       "    .dataframe tbody tr th:only-of-type {\n",
       "        vertical-align: middle;\n",
       "    }\n",
       "\n",
       "    .dataframe tbody tr th {\n",
       "        vertical-align: top;\n",
       "    }\n",
       "\n",
       "    .dataframe thead th {\n",
       "        text-align: right;\n",
       "    }\n",
       "</style>\n",
       "<table border=\"1\" class=\"dataframe\">\n",
       "  <thead>\n",
       "    <tr style=\"text-align: right;\">\n",
       "      <th></th>\n",
       "      <th>AMB_TEMP</th>\n",
       "      <th>CO</th>\n",
       "      <th>NO</th>\n",
       "      <th>NOx</th>\n",
       "      <th>O3</th>\n",
       "      <th>PM10</th>\n",
       "      <th>PM2.5</th>\n",
       "      <th>RAINFALL</th>\n",
       "      <th>RH</th>\n",
       "      <th>SO2</th>\n",
       "      <th>...</th>\n",
       "      <th>['WIND_DIREC_OHE']_5</th>\n",
       "      <th>['WIND_DIREC_OHE']_6</th>\n",
       "      <th>['WIND_DIREC_OHE']_7</th>\n",
       "      <th>['WIND_DIREC_OHE']_8</th>\n",
       "      <th>['WIND_SPEED_OHE']_2</th>\n",
       "      <th>['WIND_SPEED_OHE']_3</th>\n",
       "      <th>['WIND_SPEED_OHE']_4</th>\n",
       "      <th>['WS_HR_OHE']_2</th>\n",
       "      <th>['WS_HR_OHE']_3</th>\n",
       "      <th>['WS_HR_OHE']_4</th>\n",
       "    </tr>\n",
       "  </thead>\n",
       "  <tbody>\n",
       "    <tr>\n",
       "      <th>0</th>\n",
       "      <td>21.6</td>\n",
       "      <td>0.49</td>\n",
       "      <td>3.0</td>\n",
       "      <td>17.0</td>\n",
       "      <td>51</td>\n",
       "      <td>52</td>\n",
       "      <td>38</td>\n",
       "      <td>0</td>\n",
       "      <td>2</td>\n",
       "      <td>1.6</td>\n",
       "      <td>...</td>\n",
       "      <td>0</td>\n",
       "      <td>0</td>\n",
       "      <td>1</td>\n",
       "      <td>0</td>\n",
       "      <td>1</td>\n",
       "      <td>0</td>\n",
       "      <td>0</td>\n",
       "      <td>0</td>\n",
       "      <td>0</td>\n",
       "      <td>1</td>\n",
       "    </tr>\n",
       "  </tbody>\n",
       "</table>\n",
       "<p>1 rows × 32 columns</p>\n",
       "</div>"
      ],
      "text/plain": [
       "   AMB_TEMP    CO   NO   NOx  O3  PM10  PM2.5  RAINFALL  RH  SO2  \\\n",
       "0      21.6  0.49  3.0  17.0  51    52     38         0   2  1.6   \n",
       "\n",
       "        ...         ['WIND_DIREC_OHE']_5  ['WIND_DIREC_OHE']_6  \\\n",
       "0       ...                            0                     0   \n",
       "\n",
       "   ['WIND_DIREC_OHE']_7  ['WIND_DIREC_OHE']_8  ['WIND_SPEED_OHE']_2  \\\n",
       "0                     1                     0                     1   \n",
       "\n",
       "   ['WIND_SPEED_OHE']_3  ['WIND_SPEED_OHE']_4  ['WS_HR_OHE']_2  \\\n",
       "0                     0                     0                0   \n",
       "\n",
       "   ['WS_HR_OHE']_3  ['WS_HR_OHE']_4  \n",
       "0                0                1  \n",
       "\n",
       "[1 rows x 32 columns]"
      ]
     },
     "execution_count": 50,
     "metadata": {},
     "output_type": "execute_result"
    }
   ],
   "source": [
    "#Select columns to insert model\n",
    "new_x_dataframe= pd.concat([df_complete,Wind_OHE_df_complete], axis=1)\n",
    "new_x_dataframe"
   ]
  },
  {
   "cell_type": "code",
   "execution_count": 51,
   "metadata": {},
   "outputs": [],
   "source": [
    "#Min-Max Normalization\n",
    "new_x_dataframe['AMB_TEMP'] = (new_x_dataframe['AMB_TEMP']-project_data['AMB_TEMP'].min())/(project_data['AMB_TEMP'].max()-project_data['AMB_TEMP'].min())\n",
    "new_x_dataframe['CO'] = (new_x_dataframe['CO']-project_data['CO'].min())/(project_data['CO'].max()-project_data['CO'].min())\n",
    "new_x_dataframe['NO'] = (new_x_dataframe['NO']-project_data['NO'].min())/(project_data['NO'].max()-project_data['NO'].min())\n",
    "new_x_dataframe['NOx'] = (new_x_dataframe['NOx']-project_data['NOx'].min())/(project_data['NOx'].max()-project_data['NOx'].min())\n",
    "new_x_dataframe['O3'] = (new_x_dataframe['O3']-project_data['O3'].min())/(project_data['O3'].max()-project_data['O3'].min())\n",
    "new_x_dataframe['PM10'] = (new_x_dataframe['PM10']-project_data['PM10'].min())/(project_data['PM10'].max()-project_data['PM10'].min())\n",
    "new_x_dataframe['RAINFALL'] = (new_x_dataframe['RAINFALL']-project_data['RAINFALL'].min())/(project_data['RAINFALL'].max()-project_data['RAINFALL'].min())\n",
    "new_x_dataframe['RH'] = (new_x_dataframe['RH']-project_data['RH'].min())/(project_data['RH'].max()-project_data['RH'].min())\n",
    "new_x_dataframe['SO2'] = (new_x_dataframe['SO2']-project_data['SO2'].min())/(project_data['SO2'].max()-project_data['SO2'].min())\n",
    "new_x_dataframe['PM2.5'] = (new_x_dataframe['PM2.5']-project_data['PM2.5'].min())/(project_data['PM2.5'].max()-project_data['PM2.5'].min())\n"
   ]
  },
  {
   "cell_type": "code",
   "execution_count": 52,
   "metadata": {},
   "outputs": [
    {
     "data": {
      "text/html": [
       "<div>\n",
       "<style scoped>\n",
       "    .dataframe tbody tr th:only-of-type {\n",
       "        vertical-align: middle;\n",
       "    }\n",
       "\n",
       "    .dataframe tbody tr th {\n",
       "        vertical-align: top;\n",
       "    }\n",
       "\n",
       "    .dataframe thead th {\n",
       "        text-align: right;\n",
       "    }\n",
       "</style>\n",
       "<table border=\"1\" class=\"dataframe\">\n",
       "  <thead>\n",
       "    <tr style=\"text-align: right;\">\n",
       "      <th></th>\n",
       "      <th>AMB_TEMP</th>\n",
       "      <th>CO</th>\n",
       "      <th>NO</th>\n",
       "      <th>NOx</th>\n",
       "      <th>O3</th>\n",
       "      <th>PM10</th>\n",
       "      <th>PM2.5</th>\n",
       "      <th>RAINFALL</th>\n",
       "      <th>RH</th>\n",
       "      <th>SO2</th>\n",
       "      <th>...</th>\n",
       "      <th>['WIND_DIREC_OHE']_5</th>\n",
       "      <th>['WIND_DIREC_OHE']_6</th>\n",
       "      <th>['WIND_DIREC_OHE']_7</th>\n",
       "      <th>['WIND_DIREC_OHE']_8</th>\n",
       "      <th>['WIND_SPEED_OHE']_2</th>\n",
       "      <th>['WIND_SPEED_OHE']_3</th>\n",
       "      <th>['WIND_SPEED_OHE']_4</th>\n",
       "      <th>['WS_HR_OHE']_2</th>\n",
       "      <th>['WS_HR_OHE']_3</th>\n",
       "      <th>['WS_HR_OHE']_4</th>\n",
       "    </tr>\n",
       "  </thead>\n",
       "  <tbody>\n",
       "    <tr>\n",
       "      <th>0</th>\n",
       "      <td>0.467877</td>\n",
       "      <td>0.627374</td>\n",
       "      <td>0.325798</td>\n",
       "      <td>0.428799</td>\n",
       "      <td>0.572152</td>\n",
       "      <td>0.554876</td>\n",
       "      <td>0.679799</td>\n",
       "      <td>0.0</td>\n",
       "      <td>-0.551686</td>\n",
       "      <td>0.288169</td>\n",
       "      <td>...</td>\n",
       "      <td>0</td>\n",
       "      <td>0</td>\n",
       "      <td>1</td>\n",
       "      <td>0</td>\n",
       "      <td>1</td>\n",
       "      <td>0</td>\n",
       "      <td>0</td>\n",
       "      <td>0</td>\n",
       "      <td>0</td>\n",
       "      <td>1</td>\n",
       "    </tr>\n",
       "  </tbody>\n",
       "</table>\n",
       "<p>1 rows × 32 columns</p>\n",
       "</div>"
      ],
      "text/plain": [
       "   AMB_TEMP        CO        NO       NOx        O3      PM10     PM2.5  \\\n",
       "0  0.467877  0.627374  0.325798  0.428799  0.572152  0.554876  0.679799   \n",
       "\n",
       "   RAINFALL        RH       SO2       ...         ['WIND_DIREC_OHE']_5  \\\n",
       "0       0.0 -0.551686  0.288169       ...                            0   \n",
       "\n",
       "   ['WIND_DIREC_OHE']_6  ['WIND_DIREC_OHE']_7  ['WIND_DIREC_OHE']_8  \\\n",
       "0                     0                     1                     0   \n",
       "\n",
       "   ['WIND_SPEED_OHE']_2  ['WIND_SPEED_OHE']_3  ['WIND_SPEED_OHE']_4  \\\n",
       "0                     1                     0                     0   \n",
       "\n",
       "   ['WS_HR_OHE']_2  ['WS_HR_OHE']_3  ['WS_HR_OHE']_4  \n",
       "0                0                0                1  \n",
       "\n",
       "[1 rows x 32 columns]"
      ]
     },
     "execution_count": 52,
     "metadata": {},
     "output_type": "execute_result"
    }
   ],
   "source": [
    "new_x_dataframe"
   ]
  },
  {
   "cell_type": "code",
   "execution_count": 53,
   "metadata": {},
   "outputs": [],
   "source": [
    "#Convert predict_y to list\n",
    "predict_y = clf.predict(new_x_dataframe.values).tolist()"
   ]
  },
  {
   "cell_type": "code",
   "execution_count": 54,
   "metadata": {},
   "outputs": [],
   "source": [
    "#Convert list to string\n",
    "predict_y = ' '.join(map(str,predict_y)) "
   ]
  },
  {
   "cell_type": "code",
   "execution_count": 55,
   "metadata": {
    "scrolled": true
   },
   "outputs": [
    {
     "name": "stdout",
     "output_type": "stream",
     "text": [
      "17.82933580315536\n"
     ]
    }
   ],
   "source": [
    "#Show final prediction\n",
    "print(predict_y) "
   ]
  },
  {
   "cell_type": "code",
   "execution_count": 58,
   "metadata": {},
   "outputs": [
    {
     "data": {
      "text/plain": [
       "17.83"
      ]
     },
     "execution_count": 58,
     "metadata": {},
     "output_type": "execute_result"
    }
   ],
   "source": [
    "predict_y_redis = round(float(predict_y),2)\n",
    "predict_y_redis "
   ]
  },
  {
   "cell_type": "code",
   "execution_count": 73,
   "metadata": {},
   "outputs": [
    {
     "name": "stdout",
     "output_type": "stream",
     "text": [
      "{'GuanYin': '25.83', 'TaoYuan': '21.09', 'PingZhen': '19.02', 'JhongLi': '27.77', 'LongTan': '17.83'}\n"
     ]
    }
   ],
   "source": [
    "import redis\n",
    "conn = redis.StrictRedis(host=\"localhost\", port=6379, charset=\"utf-8\", decode_responses=True)\n",
    "conn.hset('prediction','LongTan',predict_y_redis)\n",
    "print(conn.hgetall('prediction'))"
   ]
  }
 ],
 "metadata": {
  "kernelspec": {
   "display_name": "Python 3",
   "language": "python",
   "name": "python3"
  },
  "language_info": {
   "codemirror_mode": {
    "name": "ipython",
    "version": 3
   },
   "file_extension": ".py",
   "mimetype": "text/x-python",
   "name": "python",
   "nbconvert_exporter": "python",
   "pygments_lexer": "ipython3",
   "version": "3.7.2"
  }
 },
 "nbformat": 4,
 "nbformat_minor": 2
}
