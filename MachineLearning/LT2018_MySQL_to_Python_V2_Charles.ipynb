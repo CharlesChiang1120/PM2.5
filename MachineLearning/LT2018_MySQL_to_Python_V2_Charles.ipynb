{
 "cells": [
  {
   "cell_type": "code",
   "execution_count": 225,
   "metadata": {},
   "outputs": [],
   "source": [
    "import os \n",
    "import numpy as np \n",
    "import pandas as pd \n",
    "from pandas import Series, DataFrame \n",
    "from sklearn.model_selection import train_test_split \n",
    "from sklearn.preprocessing import OneHotEncoder \n",
    "from sklearn import svm\n",
    "from sklearn.datasets import samples_generator\n",
    "from sklearn.feature_selection import SelectKBest, f_regression\n",
    "from sklearn.pipeline import make_pipeline\n",
    "from sklearn.svm import SVR\n",
    "import matplotlib.pyplot as plt\n",
    "import ssl \n",
    "import pymysql\n",
    "import os\n",
    "from sklearn.externals import joblib\n",
    "\n",
    "# used to fix Python SSL CERTIFICATE_VERIFY_FAILED\n",
    "if (not os.environ.get('PYTHONHTTPSVERIFY', '') and getattr(ssl, '_create_unverified_context', None)):\n",
    "    ssl._create_default_https_context = ssl._create_unverified_context"
   ]
  },
  {
   "cell_type": "code",
   "execution_count": 226,
   "metadata": {},
   "outputs": [
    {
     "name": "stdout",
     "output_type": "stream",
     "text": [
      "Path of read in data: /Users/charles/Desktop/Project/LongTan_File/LongTan_complete_2018.csv\n"
     ]
    }
   ],
   "source": [
    "#Load data as we need to do min-max normalization\n",
    "project_data_path = '/Users/charles/Desktop/Project/LongTan_File/'\n",
    "longtan_file_2018 = os.path.join(project_data_path, 'LongTan_complete_2018.csv')\n",
    "print('Path of read in data: %s' % (longtan_file_2018))"
   ]
  },
  {
   "cell_type": "code",
   "execution_count": 227,
   "metadata": {},
   "outputs": [],
   "source": [
    "project_data = pd.read_csv(longtan_file_2018)"
   ]
  },
  {
   "cell_type": "code",
   "execution_count": 228,
   "metadata": {},
   "outputs": [],
   "source": [
    "#Restore model\n",
    "clf=joblib.load(\"./LT_ML_Predict_V2.pkl\")"
   ]
  },
  {
   "cell_type": "code",
   "execution_count": 229,
   "metadata": {},
   "outputs": [
    {
     "name": "stdout",
     "output_type": "stream",
     "text": [
      "('LongTan', 2020, 1, 7, 15, 1.2, 0.4, 55, 23, 16.0, 1.9, 14.0, 3.1, 258, 24.5, 0, 3, 54.0, 236, 17)\n"
     ]
    }
   ],
   "source": [
    "#Connect MySQL\n",
    "db = pymysql.connect(host='localhost', port=3306, user='root', db='Air_pollution', charset='utf8')\n",
    "cursor = db.cursor()\n",
    "\n",
    "cursor.execute(\"SELECT Station,Year,Month,Day,Time,SO2,CO,O3,PM10,NOx,NO,NO2,WIND_SPEED,WIND_DIREC,AMB_TEMP,RAINFALL,RH,WS_HR,WD_HR,PM25 FROM LongTan_real_time_2020 ORDER BY ID DESC LIMIT 1\")\n",
    "#cursor.execute(\"\")\n",
    "\n",
    "#Fetch data\n",
    "LongTan_real_time_2020 = cursor.fetchone()\n",
    "\n",
    "#Close connection\n",
    "db.close()\n",
    "\n",
    "print(LongTan_real_time_2020)"
   ]
  },
  {
   "cell_type": "code",
   "execution_count": 230,
   "metadata": {},
   "outputs": [
    {
     "data": {
      "text/plain": [
       "tuple"
      ]
     },
     "execution_count": 230,
     "metadata": {},
     "output_type": "execute_result"
    }
   ],
   "source": [
    "#Show type of LongTan_real_time_2020\n",
    "type(LongTan_real_time_2020)"
   ]
  },
  {
   "cell_type": "code",
   "execution_count": 231,
   "metadata": {},
   "outputs": [],
   "source": [
    "#Convert tuple to list\n",
    "LongTan_real_time_2020 = list(LongTan_real_time_2020)"
   ]
  },
  {
   "cell_type": "code",
   "execution_count": 232,
   "metadata": {},
   "outputs": [],
   "source": [
    "#Show MySQL column name\n",
    "num_fields = len(cursor.description)\n",
    "field_names = [i[0] for i in cursor.description]"
   ]
  },
  {
   "cell_type": "code",
   "execution_count": 233,
   "metadata": {},
   "outputs": [],
   "source": [
    "#Convert list to dictionary\n",
    "#Convert dictionary to dataframe\n",
    "list_dict = zip(field_names, LongTan_real_time_2020)\n",
    "dict_dataframe = dict(list_dict)\n",
    "df_complete = pd.DataFrame([dict_dataframe ])"
   ]
  },
  {
   "cell_type": "code",
   "execution_count": 234,
   "metadata": {},
   "outputs": [
    {
     "data": {
      "text/html": [
       "<div>\n",
       "<style scoped>\n",
       "    .dataframe tbody tr th:only-of-type {\n",
       "        vertical-align: middle;\n",
       "    }\n",
       "\n",
       "    .dataframe tbody tr th {\n",
       "        vertical-align: top;\n",
       "    }\n",
       "\n",
       "    .dataframe thead th {\n",
       "        text-align: right;\n",
       "    }\n",
       "</style>\n",
       "<table border=\"1\" class=\"dataframe\">\n",
       "  <thead>\n",
       "    <tr style=\"text-align: right;\">\n",
       "      <th></th>\n",
       "      <th>AMB_TEMP</th>\n",
       "      <th>CO</th>\n",
       "      <th>Day</th>\n",
       "      <th>Month</th>\n",
       "      <th>NO</th>\n",
       "      <th>NO2</th>\n",
       "      <th>NOx</th>\n",
       "      <th>O3</th>\n",
       "      <th>PM10</th>\n",
       "      <th>PM25</th>\n",
       "      <th>RAINFALL</th>\n",
       "      <th>RH</th>\n",
       "      <th>SO2</th>\n",
       "      <th>Station</th>\n",
       "      <th>Time</th>\n",
       "      <th>WD_HR</th>\n",
       "      <th>WIND_DIREC</th>\n",
       "      <th>WIND_SPEED</th>\n",
       "      <th>WS_HR</th>\n",
       "      <th>Year</th>\n",
       "    </tr>\n",
       "  </thead>\n",
       "  <tbody>\n",
       "    <tr>\n",
       "      <th>0</th>\n",
       "      <td>24.5</td>\n",
       "      <td>0.4</td>\n",
       "      <td>7</td>\n",
       "      <td>1</td>\n",
       "      <td>1.9</td>\n",
       "      <td>14.0</td>\n",
       "      <td>16.0</td>\n",
       "      <td>55</td>\n",
       "      <td>23</td>\n",
       "      <td>17</td>\n",
       "      <td>0</td>\n",
       "      <td>3</td>\n",
       "      <td>1.2</td>\n",
       "      <td>LongTan</td>\n",
       "      <td>15</td>\n",
       "      <td>236</td>\n",
       "      <td>258</td>\n",
       "      <td>3.1</td>\n",
       "      <td>54.0</td>\n",
       "      <td>2020</td>\n",
       "    </tr>\n",
       "  </tbody>\n",
       "</table>\n",
       "</div>"
      ],
      "text/plain": [
       "   AMB_TEMP   CO  Day  Month   NO   NO2   NOx  O3  PM10  PM25  RAINFALL  RH  \\\n",
       "0      24.5  0.4    7      1  1.9  14.0  16.0  55    23    17         0   3   \n",
       "\n",
       "   SO2  Station  Time  WD_HR  WIND_DIREC  WIND_SPEED  WS_HR  Year  \n",
       "0  1.2  LongTan    15    236         258         3.1   54.0  2020  "
      ]
     },
     "execution_count": 234,
     "metadata": {},
     "output_type": "execute_result"
    }
   ],
   "source": [
    "df_complete"
   ]
  },
  {
   "cell_type": "code",
   "execution_count": 235,
   "metadata": {},
   "outputs": [],
   "source": [
    "df_complete = df_complete[['Station',\n",
    " 'Year',\n",
    " 'Month',\n",
    " 'Day',\n",
    " 'Time',\n",
    " 'AMB_TEMP',\n",
    " 'CO',\n",
    " 'NO',\n",
    " 'NOx',\n",
    " 'O3',\n",
    " 'PM10',\n",
    " 'PM25',\n",
    " 'RAINFALL',\n",
    " 'RH',\n",
    " 'SO2',\n",
    " 'WIND_SPEED',\n",
    " 'WS_HR',\n",
    " 'WD_HR',\n",
    " 'WIND_DIREC'\n",
    "  ]]"
   ]
  },
  {
   "cell_type": "code",
   "execution_count": 236,
   "metadata": {},
   "outputs": [
    {
     "data": {
      "text/html": [
       "<div>\n",
       "<style scoped>\n",
       "    .dataframe tbody tr th:only-of-type {\n",
       "        vertical-align: middle;\n",
       "    }\n",
       "\n",
       "    .dataframe tbody tr th {\n",
       "        vertical-align: top;\n",
       "    }\n",
       "\n",
       "    .dataframe thead th {\n",
       "        text-align: right;\n",
       "    }\n",
       "</style>\n",
       "<table border=\"1\" class=\"dataframe\">\n",
       "  <thead>\n",
       "    <tr style=\"text-align: right;\">\n",
       "      <th></th>\n",
       "      <th>Station</th>\n",
       "      <th>Year</th>\n",
       "      <th>Month</th>\n",
       "      <th>Day</th>\n",
       "      <th>Time</th>\n",
       "      <th>AMB_TEMP</th>\n",
       "      <th>CO</th>\n",
       "      <th>NO</th>\n",
       "      <th>NOx</th>\n",
       "      <th>O3</th>\n",
       "      <th>PM10</th>\n",
       "      <th>PM25</th>\n",
       "      <th>RAINFALL</th>\n",
       "      <th>RH</th>\n",
       "      <th>SO2</th>\n",
       "      <th>WIND_SPEED</th>\n",
       "      <th>WS_HR</th>\n",
       "      <th>WD_HR</th>\n",
       "      <th>WIND_DIREC</th>\n",
       "    </tr>\n",
       "  </thead>\n",
       "  <tbody>\n",
       "    <tr>\n",
       "      <th>0</th>\n",
       "      <td>LongTan</td>\n",
       "      <td>2020</td>\n",
       "      <td>1</td>\n",
       "      <td>7</td>\n",
       "      <td>15</td>\n",
       "      <td>24.5</td>\n",
       "      <td>0.4</td>\n",
       "      <td>1.9</td>\n",
       "      <td>16.0</td>\n",
       "      <td>55</td>\n",
       "      <td>23</td>\n",
       "      <td>17</td>\n",
       "      <td>0</td>\n",
       "      <td>3</td>\n",
       "      <td>1.2</td>\n",
       "      <td>3.1</td>\n",
       "      <td>54.0</td>\n",
       "      <td>236</td>\n",
       "      <td>258</td>\n",
       "    </tr>\n",
       "  </tbody>\n",
       "</table>\n",
       "</div>"
      ],
      "text/plain": [
       "   Station  Year  Month  Day  Time  AMB_TEMP   CO   NO   NOx  O3  PM10  PM25  \\\n",
       "0  LongTan  2020      1    7    15      24.5  0.4  1.9  16.0  55    23    17   \n",
       "\n",
       "   RAINFALL  RH  SO2  WIND_SPEED  WS_HR  WD_HR  WIND_DIREC  \n",
       "0         0   3  1.2         3.1   54.0    236         258  "
      ]
     },
     "execution_count": 236,
     "metadata": {},
     "output_type": "execute_result"
    }
   ],
   "source": [
    "df_complete"
   ]
  },
  {
   "cell_type": "code",
   "execution_count": 237,
   "metadata": {},
   "outputs": [
    {
     "data": {
      "text/html": [
       "<div>\n",
       "<style scoped>\n",
       "    .dataframe tbody tr th:only-of-type {\n",
       "        vertical-align: middle;\n",
       "    }\n",
       "\n",
       "    .dataframe tbody tr th {\n",
       "        vertical-align: top;\n",
       "    }\n",
       "\n",
       "    .dataframe thead th {\n",
       "        text-align: right;\n",
       "    }\n",
       "</style>\n",
       "<table border=\"1\" class=\"dataframe\">\n",
       "  <thead>\n",
       "    <tr style=\"text-align: right;\">\n",
       "      <th></th>\n",
       "      <th>Station</th>\n",
       "      <th>Year</th>\n",
       "      <th>Month</th>\n",
       "      <th>Day</th>\n",
       "      <th>Time</th>\n",
       "      <th>AMB_TEMP</th>\n",
       "      <th>CO</th>\n",
       "      <th>NO</th>\n",
       "      <th>NOx</th>\n",
       "      <th>O3</th>\n",
       "      <th>PM10</th>\n",
       "      <th>PM2.5</th>\n",
       "      <th>RAINFALL</th>\n",
       "      <th>RH</th>\n",
       "      <th>SO2</th>\n",
       "      <th>WIND_SPEED</th>\n",
       "      <th>WS_HR</th>\n",
       "      <th>WD_HR</th>\n",
       "      <th>WIND_DIREC</th>\n",
       "    </tr>\n",
       "  </thead>\n",
       "  <tbody>\n",
       "    <tr>\n",
       "      <th>0</th>\n",
       "      <td>LongTan</td>\n",
       "      <td>2020</td>\n",
       "      <td>1</td>\n",
       "      <td>7</td>\n",
       "      <td>15</td>\n",
       "      <td>24.5</td>\n",
       "      <td>0.4</td>\n",
       "      <td>1.9</td>\n",
       "      <td>16.0</td>\n",
       "      <td>55</td>\n",
       "      <td>23</td>\n",
       "      <td>17</td>\n",
       "      <td>0</td>\n",
       "      <td>3</td>\n",
       "      <td>1.2</td>\n",
       "      <td>3.1</td>\n",
       "      <td>54.0</td>\n",
       "      <td>236</td>\n",
       "      <td>258</td>\n",
       "    </tr>\n",
       "  </tbody>\n",
       "</table>\n",
       "</div>"
      ],
      "text/plain": [
       "   Station  Year  Month  Day  Time  AMB_TEMP   CO   NO   NOx  O3  PM10  PM2.5  \\\n",
       "0  LongTan  2020      1    7    15      24.5  0.4  1.9  16.0  55    23     17   \n",
       "\n",
       "   RAINFALL  RH  SO2  WIND_SPEED  WS_HR  WD_HR  WIND_DIREC  \n",
       "0         0   3  1.2         3.1   54.0    236         258  "
      ]
     },
     "execution_count": 237,
     "metadata": {},
     "output_type": "execute_result"
    }
   ],
   "source": [
    "df_complete = df_complete.rename(columns={\"PM25\": \"PM2.5\"})\n",
    "df_complete"
   ]
  },
  {
   "cell_type": "code",
   "execution_count": 238,
   "metadata": {},
   "outputs": [],
   "source": [
    "df_complete['WD_HR'] = np.where(df_complete['WD_HR'].between(0,22.5),1, df_complete['WD_HR'])\n",
    "df_complete['WD_HR'] = np.where(df_complete['WD_HR'].between(22.5,67.5),2, df_complete['WD_HR'])\n",
    "df_complete['WD_HR'] = np.where(df_complete['WD_HR'].between(67.5,112.5),3, df_complete['WD_HR'])\n",
    "df_complete['WD_HR'] = np.where(df_complete['WD_HR'].between(112.5,157.5),4, df_complete['WD_HR'])\n",
    "df_complete['WD_HR'] = np.where(df_complete['WD_HR'].between(157.5,202.5),5, df_complete['WD_HR'])\n",
    "df_complete['WD_HR'] = np.where(df_complete['WD_HR'].between(202.5,247.5),6, df_complete['WD_HR'])\n",
    "df_complete['WD_HR'] = np.where(df_complete['WD_HR'].between(247.5,292.5),7, df_complete['WD_HR'])\n",
    "df_complete['WD_HR'] = np.where(df_complete['WD_HR'].between(292.5,337.5),8, df_complete['WD_HR'])\n",
    "df_complete['WD_HR'] = df_complete['WD_HR'].mask(df_complete['WD_HR'] > 337.5, 1)"
   ]
  },
  {
   "cell_type": "code",
   "execution_count": 239,
   "metadata": {},
   "outputs": [],
   "source": [
    "#Convert WIND_DIREC to 8 degree\n",
    "df_complete['WIND_DIREC'] = np.where(df_complete['WIND_DIREC'].between(0,22.5),1, df_complete['WIND_DIREC'])\n",
    "df_complete['WIND_DIREC'] = np.where(df_complete['WIND_DIREC'].between(22.5,67.5),2, df_complete['WIND_DIREC'])\n",
    "df_complete['WIND_DIREC'] = np.where(df_complete['WIND_DIREC'].between(67.5,112.5),3, df_complete['WIND_DIREC'])\n",
    "df_complete['WIND_DIREC'] = np.where(df_complete['WIND_DIREC'].between(112.5,157.5),4, df_complete['WIND_DIREC'])\n",
    "df_complete['WIND_DIREC'] = np.where(df_complete['WIND_DIREC'].between(157.5,202.5),5, df_complete['WIND_DIREC'])\n",
    "df_complete['WIND_DIREC'] = np.where(df_complete['WIND_DIREC'].between(202.5,247.5),6, df_complete['WIND_DIREC'])\n",
    "df_complete['WIND_DIREC'] = np.where(df_complete['WIND_DIREC'].between(247.5,292.5),7, df_complete['WIND_DIREC'])\n",
    "df_complete['WIND_DIREC'] = np.where(df_complete['WIND_DIREC'].between(292.5,337.5),8, df_complete['WIND_DIREC'])\n",
    "df_complete['WIND_DIREC'] = df_complete['WIND_DIREC'].mask(df_complete['WIND_DIREC'] > 337.5, 1)"
   ]
  },
  {
   "cell_type": "code",
   "execution_count": 240,
   "metadata": {},
   "outputs": [],
   "source": [
    "#Convert WIND_SPEED to 4 degree\n",
    "df_complete['WIND_SPEED'] = np.where(df_complete['WIND_SPEED'].between(0,0.3),1, df_complete['WIND_SPEED'])\n",
    "df_complete['WIND_SPEED'] = np.where(df_complete['WIND_SPEED'].between(0.3,3.4),2, df_complete['WIND_SPEED'])\n",
    "df_complete['WIND_SPEED'] = np.where(df_complete['WIND_SPEED'].between(3.4,8),3, df_complete['WIND_SPEED'])\n",
    "df_complete['WIND_SPEED'] = df_complete['WIND_SPEED'].mask(df_complete['WIND_SPEED'] > 8, 4)"
   ]
  },
  {
   "cell_type": "code",
   "execution_count": 241,
   "metadata": {},
   "outputs": [],
   "source": [
    "#Convert WS_HR to 4 degree\n",
    "df_complete['WS_HR'] = np.where(df_complete['WS_HR'].between(0,0.3),1, df_complete['WS_HR'])\n",
    "df_complete['WS_HR'] = np.where(df_complete['WS_HR'].between(0.3,3.4),2, df_complete['WS_HR'])\n",
    "df_complete['WS_HR'] = np.where(df_complete['WS_HR'].between(3.4,8),3, df_complete['WS_HR'])\n",
    "df_complete['WS_HR'] = df_complete['WS_HR'].mask(df_complete['WS_HR'] > 8, 4)"
   ]
  },
  {
   "cell_type": "code",
   "execution_count": 242,
   "metadata": {},
   "outputs": [],
   "source": [
    "#Convert type to integer because of one hot encoding \n",
    "df_complete['WD_HR']= df_complete['WD_HR'].round(0).astype(int)\n",
    "df_complete['WIND_DIREC']= df_complete['WIND_DIREC'].round(0).astype(int)"
   ]
  },
  {
   "cell_type": "code",
   "execution_count": 243,
   "metadata": {},
   "outputs": [],
   "source": [
    "#One hot encoding\n",
    "df_complete_WD_HR_OHE = pd.get_dummies(df_complete['WD_HR'],prefix=['WD_HR_OHE'])\n",
    "df_complete_WIND_DIREC_OHE = pd.get_dummies(df_complete['WIND_DIREC'],prefix=['WIND_DIREC_OHE'])"
   ]
  },
  {
   "cell_type": "code",
   "execution_count": 244,
   "metadata": {},
   "outputs": [
    {
     "data": {
      "text/html": [
       "<div>\n",
       "<style scoped>\n",
       "    .dataframe tbody tr th:only-of-type {\n",
       "        vertical-align: middle;\n",
       "    }\n",
       "\n",
       "    .dataframe tbody tr th {\n",
       "        vertical-align: top;\n",
       "    }\n",
       "\n",
       "    .dataframe thead th {\n",
       "        text-align: right;\n",
       "    }\n",
       "</style>\n",
       "<table border=\"1\" class=\"dataframe\">\n",
       "  <thead>\n",
       "    <tr style=\"text-align: right;\">\n",
       "      <th></th>\n",
       "      <th>Station</th>\n",
       "      <th>Year</th>\n",
       "      <th>Month</th>\n",
       "      <th>Day</th>\n",
       "      <th>Time</th>\n",
       "      <th>AMB_TEMP</th>\n",
       "      <th>CO</th>\n",
       "      <th>NO</th>\n",
       "      <th>NOx</th>\n",
       "      <th>O3</th>\n",
       "      <th>PM10</th>\n",
       "      <th>PM2.5</th>\n",
       "      <th>RAINFALL</th>\n",
       "      <th>RH</th>\n",
       "      <th>SO2</th>\n",
       "      <th>WIND_SPEED</th>\n",
       "      <th>WS_HR</th>\n",
       "      <th>WD_HR</th>\n",
       "      <th>WIND_DIREC</th>\n",
       "    </tr>\n",
       "  </thead>\n",
       "  <tbody>\n",
       "    <tr>\n",
       "      <th>0</th>\n",
       "      <td>LongTan</td>\n",
       "      <td>2020</td>\n",
       "      <td>1</td>\n",
       "      <td>7</td>\n",
       "      <td>15</td>\n",
       "      <td>24.5</td>\n",
       "      <td>0.4</td>\n",
       "      <td>1.9</td>\n",
       "      <td>16.0</td>\n",
       "      <td>55</td>\n",
       "      <td>23</td>\n",
       "      <td>17</td>\n",
       "      <td>0</td>\n",
       "      <td>3</td>\n",
       "      <td>1.2</td>\n",
       "      <td>2.0</td>\n",
       "      <td>4.0</td>\n",
       "      <td>6</td>\n",
       "      <td>7</td>\n",
       "    </tr>\n",
       "  </tbody>\n",
       "</table>\n",
       "</div>"
      ],
      "text/plain": [
       "   Station  Year  Month  Day  Time  AMB_TEMP   CO   NO   NOx  O3  PM10  PM2.5  \\\n",
       "0  LongTan  2020      1    7    15      24.5  0.4  1.9  16.0  55    23     17   \n",
       "\n",
       "   RAINFALL  RH  SO2  WIND_SPEED  WS_HR  WD_HR  WIND_DIREC  \n",
       "0         0   3  1.2         2.0    4.0      6           7  "
      ]
     },
     "execution_count": 244,
     "metadata": {},
     "output_type": "execute_result"
    }
   ],
   "source": [
    "df_complete"
   ]
  },
  {
   "cell_type": "code",
   "execution_count": 245,
   "metadata": {},
   "outputs": [],
   "source": [
    "#Create a list and insert column name \n",
    "create_OHE_WD_HR_column_name = (\"['WD_HR_OHE']_1\",\n",
    " \"['WD_HR_OHE']_2\",\n",
    " \"['WD_HR_OHE']_3\",\n",
    " \"['WD_HR_OHE']_4\",\n",
    " \"['WD_HR_OHE']_5\",\n",
    " \"['WD_HR_OHE']_6\",\n",
    " \"['WD_HR_OHE']_7\",\n",
    " \"['WD_HR_OHE']_8\",\n",
    ")"
   ]
  },
  {
   "cell_type": "code",
   "execution_count": 246,
   "metadata": {},
   "outputs": [],
   "source": [
    "#Convert type\n",
    "create_OHE_WD_HR_column_name = list(create_OHE_WD_HR_column_name)"
   ]
  },
  {
   "cell_type": "code",
   "execution_count": 247,
   "metadata": {},
   "outputs": [],
   "source": [
    "#Create zero*7 list and return a list with 8 values\n",
    "def display(value):\n",
    "    s1 = [0]*7 \n",
    "    s1.insert(value-1,1)\n",
    "    return s1"
   ]
  },
  {
   "cell_type": "code",
   "execution_count": 248,
   "metadata": {},
   "outputs": [],
   "source": [
    "#Fetch value to insert function\n",
    "WD_HR_OHE_list_value = display(df_complete.iloc[0,17])"
   ]
  },
  {
   "cell_type": "code",
   "execution_count": 249,
   "metadata": {},
   "outputs": [],
   "source": [
    "#Convert list to dictionary\n",
    "#Convert dictionary to dataframe\n",
    "OHE_WD_HR_list_dict = zip(create_OHE_WD_HR_column_name , WD_HR_OHE_list_value)\n",
    "OHE_WD_HR_dict_dataframe = dict(OHE_WD_HR_list_dict)\n",
    "OHE_WD_HR_complete = pd.DataFrame([OHE_WD_HR_dict_dataframe])"
   ]
  },
  {
   "cell_type": "code",
   "execution_count": 250,
   "metadata": {},
   "outputs": [
    {
     "data": {
      "text/html": [
       "<div>\n",
       "<style scoped>\n",
       "    .dataframe tbody tr th:only-of-type {\n",
       "        vertical-align: middle;\n",
       "    }\n",
       "\n",
       "    .dataframe tbody tr th {\n",
       "        vertical-align: top;\n",
       "    }\n",
       "\n",
       "    .dataframe thead th {\n",
       "        text-align: right;\n",
       "    }\n",
       "</style>\n",
       "<table border=\"1\" class=\"dataframe\">\n",
       "  <thead>\n",
       "    <tr style=\"text-align: right;\">\n",
       "      <th></th>\n",
       "      <th>['WD_HR_OHE']_1</th>\n",
       "      <th>['WD_HR_OHE']_2</th>\n",
       "      <th>['WD_HR_OHE']_3</th>\n",
       "      <th>['WD_HR_OHE']_4</th>\n",
       "      <th>['WD_HR_OHE']_5</th>\n",
       "      <th>['WD_HR_OHE']_6</th>\n",
       "      <th>['WD_HR_OHE']_7</th>\n",
       "      <th>['WD_HR_OHE']_8</th>\n",
       "    </tr>\n",
       "  </thead>\n",
       "  <tbody>\n",
       "    <tr>\n",
       "      <th>0</th>\n",
       "      <td>0</td>\n",
       "      <td>0</td>\n",
       "      <td>0</td>\n",
       "      <td>0</td>\n",
       "      <td>0</td>\n",
       "      <td>1</td>\n",
       "      <td>0</td>\n",
       "      <td>0</td>\n",
       "    </tr>\n",
       "  </tbody>\n",
       "</table>\n",
       "</div>"
      ],
      "text/plain": [
       "   ['WD_HR_OHE']_1  ['WD_HR_OHE']_2  ['WD_HR_OHE']_3  ['WD_HR_OHE']_4  \\\n",
       "0                0                0                0                0   \n",
       "\n",
       "   ['WD_HR_OHE']_5  ['WD_HR_OHE']_6  ['WD_HR_OHE']_7  ['WD_HR_OHE']_8  \n",
       "0                0                1                0                0  "
      ]
     },
     "execution_count": 250,
     "metadata": {},
     "output_type": "execute_result"
    }
   ],
   "source": [
    "#Show dataframe\n",
    "OHE_WD_HR_complete"
   ]
  },
  {
   "cell_type": "code",
   "execution_count": 251,
   "metadata": {},
   "outputs": [],
   "source": [
    "#Create a list and insert column name \n",
    "create_OHE_WIND_DIREC_column_name= (\"['WIND_DIREC_OHE']_1\",\n",
    " \"['WIND_DIREC_OHE']_2\",\n",
    " \"['WIND_DIREC_OHE']_3\",\n",
    " \"['WIND_DIREC_OHE']_4\",\n",
    " \"['WIND_DIREC_OHE']_5\",\n",
    " \"['WIND_DIREC_OHE']_6\",\n",
    " \"['WIND_DIREC_OHE']_7\",\n",
    " \"['WIND_DIREC_OHE']_8\",\n",
    ")"
   ]
  },
  {
   "cell_type": "code",
   "execution_count": 252,
   "metadata": {},
   "outputs": [],
   "source": [
    "#Convert type\n",
    "create_OHE_WIND_DIREC_column_name = list(create_OHE_WIND_DIREC_column_name)"
   ]
  },
  {
   "cell_type": "code",
   "execution_count": 253,
   "metadata": {},
   "outputs": [],
   "source": [
    "#Fetch value to insert function\n",
    "WIND_DIREC_OHE_list_value = display(df_complete.iloc[0,18])"
   ]
  },
  {
   "cell_type": "code",
   "execution_count": 254,
   "metadata": {},
   "outputs": [],
   "source": [
    "#Convert list to dictionary\n",
    "#Convert dictionary to dataframe\n",
    "OHE_WIND_DIREC_list_dict = zip(create_OHE_WIND_DIREC_column_name , WIND_DIREC_OHE_list_value)\n",
    "OHE_WIND_DIREC_dict_dataframe = dict(OHE_WIND_DIREC_list_dict)\n",
    "OHE_WIND_DIREC_complete = pd.DataFrame([OHE_WIND_DIREC_dict_dataframe])"
   ]
  },
  {
   "cell_type": "code",
   "execution_count": 255,
   "metadata": {},
   "outputs": [
    {
     "data": {
      "text/html": [
       "<div>\n",
       "<style scoped>\n",
       "    .dataframe tbody tr th:only-of-type {\n",
       "        vertical-align: middle;\n",
       "    }\n",
       "\n",
       "    .dataframe tbody tr th {\n",
       "        vertical-align: top;\n",
       "    }\n",
       "\n",
       "    .dataframe thead th {\n",
       "        text-align: right;\n",
       "    }\n",
       "</style>\n",
       "<table border=\"1\" class=\"dataframe\">\n",
       "  <thead>\n",
       "    <tr style=\"text-align: right;\">\n",
       "      <th></th>\n",
       "      <th>['WIND_DIREC_OHE']_1</th>\n",
       "      <th>['WIND_DIREC_OHE']_2</th>\n",
       "      <th>['WIND_DIREC_OHE']_3</th>\n",
       "      <th>['WIND_DIREC_OHE']_4</th>\n",
       "      <th>['WIND_DIREC_OHE']_5</th>\n",
       "      <th>['WIND_DIREC_OHE']_6</th>\n",
       "      <th>['WIND_DIREC_OHE']_7</th>\n",
       "      <th>['WIND_DIREC_OHE']_8</th>\n",
       "    </tr>\n",
       "  </thead>\n",
       "  <tbody>\n",
       "    <tr>\n",
       "      <th>0</th>\n",
       "      <td>0</td>\n",
       "      <td>0</td>\n",
       "      <td>0</td>\n",
       "      <td>0</td>\n",
       "      <td>0</td>\n",
       "      <td>0</td>\n",
       "      <td>1</td>\n",
       "      <td>0</td>\n",
       "    </tr>\n",
       "  </tbody>\n",
       "</table>\n",
       "</div>"
      ],
      "text/plain": [
       "   ['WIND_DIREC_OHE']_1  ['WIND_DIREC_OHE']_2  ['WIND_DIREC_OHE']_3  \\\n",
       "0                     0                     0                     0   \n",
       "\n",
       "   ['WIND_DIREC_OHE']_4  ['WIND_DIREC_OHE']_5  ['WIND_DIREC_OHE']_6  \\\n",
       "0                     0                     0                     0   \n",
       "\n",
       "   ['WIND_DIREC_OHE']_7  ['WIND_DIREC_OHE']_8  \n",
       "0                     1                     0  "
      ]
     },
     "execution_count": 255,
     "metadata": {},
     "output_type": "execute_result"
    }
   ],
   "source": [
    "#Show dataframe\n",
    "OHE_WIND_DIREC_complete "
   ]
  },
  {
   "cell_type": "code",
   "execution_count": 256,
   "metadata": {
    "scrolled": true
   },
   "outputs": [
    {
     "data": {
      "text/html": [
       "<div>\n",
       "<style scoped>\n",
       "    .dataframe tbody tr th:only-of-type {\n",
       "        vertical-align: middle;\n",
       "    }\n",
       "\n",
       "    .dataframe tbody tr th {\n",
       "        vertical-align: top;\n",
       "    }\n",
       "\n",
       "    .dataframe thead th {\n",
       "        text-align: right;\n",
       "    }\n",
       "</style>\n",
       "<table border=\"1\" class=\"dataframe\">\n",
       "  <thead>\n",
       "    <tr style=\"text-align: right;\">\n",
       "      <th></th>\n",
       "      <th>AMB_TEMP</th>\n",
       "      <th>CO</th>\n",
       "      <th>NO</th>\n",
       "      <th>NOx</th>\n",
       "      <th>O3</th>\n",
       "      <th>PM10</th>\n",
       "      <th>PM2.5</th>\n",
       "      <th>RAINFALL</th>\n",
       "      <th>RH</th>\n",
       "      <th>SO2</th>\n",
       "      <th>WIND_SPEED</th>\n",
       "      <th>WS_HR</th>\n",
       "    </tr>\n",
       "  </thead>\n",
       "  <tbody>\n",
       "    <tr>\n",
       "      <th>0</th>\n",
       "      <td>24.5</td>\n",
       "      <td>0.4</td>\n",
       "      <td>1.9</td>\n",
       "      <td>16.0</td>\n",
       "      <td>55</td>\n",
       "      <td>23</td>\n",
       "      <td>17</td>\n",
       "      <td>0</td>\n",
       "      <td>3</td>\n",
       "      <td>1.2</td>\n",
       "      <td>2.0</td>\n",
       "      <td>4.0</td>\n",
       "    </tr>\n",
       "  </tbody>\n",
       "</table>\n",
       "</div>"
      ],
      "text/plain": [
       "   AMB_TEMP   CO   NO   NOx  O3  PM10  PM2.5  RAINFALL  RH  SO2  WIND_SPEED  \\\n",
       "0      24.5  0.4  1.9  16.0  55    23     17         0   3  1.2         2.0   \n",
       "\n",
       "   WS_HR  \n",
       "0    4.0  "
      ]
     },
     "execution_count": 256,
     "metadata": {},
     "output_type": "execute_result"
    }
   ],
   "source": [
    "df_complete = df_complete.iloc[:,5:17]\n",
    "df_complete"
   ]
  },
  {
   "cell_type": "code",
   "execution_count": 257,
   "metadata": {},
   "outputs": [
    {
     "data": {
      "text/html": [
       "<div>\n",
       "<style scoped>\n",
       "    .dataframe tbody tr th:only-of-type {\n",
       "        vertical-align: middle;\n",
       "    }\n",
       "\n",
       "    .dataframe tbody tr th {\n",
       "        vertical-align: top;\n",
       "    }\n",
       "\n",
       "    .dataframe thead th {\n",
       "        text-align: right;\n",
       "    }\n",
       "</style>\n",
       "<table border=\"1\" class=\"dataframe\">\n",
       "  <thead>\n",
       "    <tr style=\"text-align: right;\">\n",
       "      <th></th>\n",
       "      <th>['WD_HR_OHE']_1</th>\n",
       "      <th>['WD_HR_OHE']_2</th>\n",
       "      <th>['WD_HR_OHE']_3</th>\n",
       "      <th>['WD_HR_OHE']_4</th>\n",
       "      <th>['WD_HR_OHE']_5</th>\n",
       "      <th>['WD_HR_OHE']_6</th>\n",
       "      <th>['WD_HR_OHE']_7</th>\n",
       "      <th>['WD_HR_OHE']_8</th>\n",
       "      <th>['WIND_DIREC_OHE']_1</th>\n",
       "      <th>['WIND_DIREC_OHE']_2</th>\n",
       "      <th>['WIND_DIREC_OHE']_3</th>\n",
       "      <th>['WIND_DIREC_OHE']_4</th>\n",
       "      <th>['WIND_DIREC_OHE']_5</th>\n",
       "      <th>['WIND_DIREC_OHE']_6</th>\n",
       "      <th>['WIND_DIREC_OHE']_7</th>\n",
       "      <th>['WIND_DIREC_OHE']_8</th>\n",
       "    </tr>\n",
       "  </thead>\n",
       "  <tbody>\n",
       "    <tr>\n",
       "      <th>0</th>\n",
       "      <td>0</td>\n",
       "      <td>0</td>\n",
       "      <td>0</td>\n",
       "      <td>0</td>\n",
       "      <td>0</td>\n",
       "      <td>1</td>\n",
       "      <td>0</td>\n",
       "      <td>0</td>\n",
       "      <td>0</td>\n",
       "      <td>0</td>\n",
       "      <td>0</td>\n",
       "      <td>0</td>\n",
       "      <td>0</td>\n",
       "      <td>0</td>\n",
       "      <td>1</td>\n",
       "      <td>0</td>\n",
       "    </tr>\n",
       "  </tbody>\n",
       "</table>\n",
       "</div>"
      ],
      "text/plain": [
       "   ['WD_HR_OHE']_1  ['WD_HR_OHE']_2  ['WD_HR_OHE']_3  ['WD_HR_OHE']_4  \\\n",
       "0                0                0                0                0   \n",
       "\n",
       "   ['WD_HR_OHE']_5  ['WD_HR_OHE']_6  ['WD_HR_OHE']_7  ['WD_HR_OHE']_8  \\\n",
       "0                0                1                0                0   \n",
       "\n",
       "   ['WIND_DIREC_OHE']_1  ['WIND_DIREC_OHE']_2  ['WIND_DIREC_OHE']_3  \\\n",
       "0                     0                     0                     0   \n",
       "\n",
       "   ['WIND_DIREC_OHE']_4  ['WIND_DIREC_OHE']_5  ['WIND_DIREC_OHE']_6  \\\n",
       "0                     0                     0                     0   \n",
       "\n",
       "   ['WIND_DIREC_OHE']_7  ['WIND_DIREC_OHE']_8  \n",
       "0                     1                     0  "
      ]
     },
     "execution_count": 257,
     "metadata": {},
     "output_type": "execute_result"
    }
   ],
   "source": [
    "#Concatenate dataframe after doing one hot encoding in each component\n",
    "Wind_OHE_df_complete = pd.concat([OHE_WD_HR_complete,OHE_WIND_DIREC_complete], axis=1)\n",
    "Wind_OHE_df_complete "
   ]
  },
  {
   "cell_type": "code",
   "execution_count": 258,
   "metadata": {},
   "outputs": [
    {
     "data": {
      "text/html": [
       "<div>\n",
       "<style scoped>\n",
       "    .dataframe tbody tr th:only-of-type {\n",
       "        vertical-align: middle;\n",
       "    }\n",
       "\n",
       "    .dataframe tbody tr th {\n",
       "        vertical-align: top;\n",
       "    }\n",
       "\n",
       "    .dataframe thead th {\n",
       "        text-align: right;\n",
       "    }\n",
       "</style>\n",
       "<table border=\"1\" class=\"dataframe\">\n",
       "  <thead>\n",
       "    <tr style=\"text-align: right;\">\n",
       "      <th></th>\n",
       "      <th>AMB_TEMP</th>\n",
       "      <th>CO</th>\n",
       "      <th>NO</th>\n",
       "      <th>NOx</th>\n",
       "      <th>O3</th>\n",
       "      <th>PM10</th>\n",
       "      <th>PM2.5</th>\n",
       "      <th>RAINFALL</th>\n",
       "      <th>RH</th>\n",
       "      <th>SO2</th>\n",
       "      <th>...</th>\n",
       "      <th>['WD_HR_OHE']_7</th>\n",
       "      <th>['WD_HR_OHE']_8</th>\n",
       "      <th>['WIND_DIREC_OHE']_1</th>\n",
       "      <th>['WIND_DIREC_OHE']_2</th>\n",
       "      <th>['WIND_DIREC_OHE']_3</th>\n",
       "      <th>['WIND_DIREC_OHE']_4</th>\n",
       "      <th>['WIND_DIREC_OHE']_5</th>\n",
       "      <th>['WIND_DIREC_OHE']_6</th>\n",
       "      <th>['WIND_DIREC_OHE']_7</th>\n",
       "      <th>['WIND_DIREC_OHE']_8</th>\n",
       "    </tr>\n",
       "  </thead>\n",
       "  <tbody>\n",
       "    <tr>\n",
       "      <th>0</th>\n",
       "      <td>24.5</td>\n",
       "      <td>0.4</td>\n",
       "      <td>1.9</td>\n",
       "      <td>16.0</td>\n",
       "      <td>55</td>\n",
       "      <td>23</td>\n",
       "      <td>17</td>\n",
       "      <td>0</td>\n",
       "      <td>3</td>\n",
       "      <td>1.2</td>\n",
       "      <td>...</td>\n",
       "      <td>0</td>\n",
       "      <td>0</td>\n",
       "      <td>0</td>\n",
       "      <td>0</td>\n",
       "      <td>0</td>\n",
       "      <td>0</td>\n",
       "      <td>0</td>\n",
       "      <td>0</td>\n",
       "      <td>1</td>\n",
       "      <td>0</td>\n",
       "    </tr>\n",
       "  </tbody>\n",
       "</table>\n",
       "<p>1 rows × 28 columns</p>\n",
       "</div>"
      ],
      "text/plain": [
       "   AMB_TEMP   CO   NO   NOx  O3  PM10  PM2.5  RAINFALL  RH  SO2  \\\n",
       "0      24.5  0.4  1.9  16.0  55    23     17         0   3  1.2   \n",
       "\n",
       "           ...           ['WD_HR_OHE']_7  ['WD_HR_OHE']_8  \\\n",
       "0          ...                         0                0   \n",
       "\n",
       "   ['WIND_DIREC_OHE']_1  ['WIND_DIREC_OHE']_2  ['WIND_DIREC_OHE']_3  \\\n",
       "0                     0                     0                     0   \n",
       "\n",
       "   ['WIND_DIREC_OHE']_4  ['WIND_DIREC_OHE']_5  ['WIND_DIREC_OHE']_6  \\\n",
       "0                     0                     0                     0   \n",
       "\n",
       "   ['WIND_DIREC_OHE']_7  ['WIND_DIREC_OHE']_8  \n",
       "0                     1                     0  \n",
       "\n",
       "[1 rows x 28 columns]"
      ]
     },
     "execution_count": 258,
     "metadata": {},
     "output_type": "execute_result"
    }
   ],
   "source": [
    "#Select columns to insert model\n",
    "new_x_dataframe= pd.concat([df_complete,Wind_OHE_df_complete], axis=1)\n",
    "new_x_dataframe"
   ]
  },
  {
   "cell_type": "code",
   "execution_count": 259,
   "metadata": {},
   "outputs": [],
   "source": [
    "#Min-Max Normalization\n",
    "new_x_dataframe['AMB_TEMP'] = (new_x_dataframe['AMB_TEMP']-project_data['AMB_TEMP'].min())/(project_data['AMB_TEMP'].max()-project_data['AMB_TEMP'].min())\n",
    "new_x_dataframe['CO'] = (new_x_dataframe['CO']-project_data['CO'].min())/(project_data['CO'].max()-project_data['CO'].min())\n",
    "new_x_dataframe['NO'] = (new_x_dataframe['NO']-project_data['NO'].min())/(project_data['NO'].max()-project_data['NO'].min())\n",
    "new_x_dataframe['NOx'] = (new_x_dataframe['NOx']-project_data['NOx'].min())/(project_data['NOx'].max()-project_data['NOx'].min())\n",
    "new_x_dataframe['O3'] = (new_x_dataframe['O3']-project_data['O3'].min())/(project_data['O3'].max()-project_data['O3'].min())\n",
    "new_x_dataframe['PM10'] = (new_x_dataframe['PM10']-project_data['PM10'].min())/(project_data['PM10'].max()-project_data['PM10'].min())\n",
    "new_x_dataframe['RAINFALL'] = (new_x_dataframe['RAINFALL']-project_data['RAINFALL'].min())/(project_data['RAINFALL'].max()-project_data['RAINFALL'].min())\n",
    "new_x_dataframe['RH'] = (new_x_dataframe['RH']-project_data['RH'].min())/(project_data['RH'].max()-project_data['RH'].min())\n",
    "new_x_dataframe['SO2'] = (new_x_dataframe['SO2']-project_data['SO2'].min())/(project_data['SO2'].max()-project_data['SO2'].min())\n",
    "new_x_dataframe['PM2.5'] = (new_x_dataframe['PM2.5']-project_data['PM2.5'].min())/(project_data['PM2.5'].max()-project_data['PM2.5'].min())\n",
    "new_x_dataframe['WIND_SPEED'] = (new_x_dataframe['WIND_SPEED']-project_data['WIND_SPEED'].min())/(project_data['WIND_SPEED'].max()-project_data['WIND_SPEED'].min())\n",
    "new_x_dataframe['WS_HR'] = (new_x_dataframe['WS_HR']-project_data['WS_HR'].min())/(project_data['WS_HR'].max()-project_data['WS_HR'].min())\n",
    "\n"
   ]
  },
  {
   "cell_type": "code",
   "execution_count": 260,
   "metadata": {},
   "outputs": [
    {
     "data": {
      "text/html": [
       "<div>\n",
       "<style scoped>\n",
       "    .dataframe tbody tr th:only-of-type {\n",
       "        vertical-align: middle;\n",
       "    }\n",
       "\n",
       "    .dataframe tbody tr th {\n",
       "        vertical-align: top;\n",
       "    }\n",
       "\n",
       "    .dataframe thead th {\n",
       "        text-align: right;\n",
       "    }\n",
       "</style>\n",
       "<table border=\"1\" class=\"dataframe\">\n",
       "  <thead>\n",
       "    <tr style=\"text-align: right;\">\n",
       "      <th></th>\n",
       "      <th>AMB_TEMP</th>\n",
       "      <th>CO</th>\n",
       "      <th>NO</th>\n",
       "      <th>NOx</th>\n",
       "      <th>O3</th>\n",
       "      <th>PM10</th>\n",
       "      <th>PM2.5</th>\n",
       "      <th>RAINFALL</th>\n",
       "      <th>RH</th>\n",
       "      <th>SO2</th>\n",
       "      <th>...</th>\n",
       "      <th>['WD_HR_OHE']_7</th>\n",
       "      <th>['WD_HR_OHE']_8</th>\n",
       "      <th>['WIND_DIREC_OHE']_1</th>\n",
       "      <th>['WIND_DIREC_OHE']_2</th>\n",
       "      <th>['WIND_DIREC_OHE']_3</th>\n",
       "      <th>['WIND_DIREC_OHE']_4</th>\n",
       "      <th>['WIND_DIREC_OHE']_5</th>\n",
       "      <th>['WIND_DIREC_OHE']_6</th>\n",
       "      <th>['WIND_DIREC_OHE']_7</th>\n",
       "      <th>['WIND_DIREC_OHE']_8</th>\n",
       "    </tr>\n",
       "  </thead>\n",
       "  <tbody>\n",
       "    <tr>\n",
       "      <th>0</th>\n",
       "      <td>0.551633</td>\n",
       "      <td>0.496063</td>\n",
       "      <td>0.206339</td>\n",
       "      <td>0.40233</td>\n",
       "      <td>0.618574</td>\n",
       "      <td>0.239358</td>\n",
       "      <td>0.293967</td>\n",
       "      <td>0.0</td>\n",
       "      <td>-0.535853</td>\n",
       "      <td>0.216127</td>\n",
       "      <td>...</td>\n",
       "      <td>0</td>\n",
       "      <td>0</td>\n",
       "      <td>0</td>\n",
       "      <td>0</td>\n",
       "      <td>0</td>\n",
       "      <td>0</td>\n",
       "      <td>0</td>\n",
       "      <td>0</td>\n",
       "      <td>1</td>\n",
       "      <td>0</td>\n",
       "    </tr>\n",
       "  </tbody>\n",
       "</table>\n",
       "<p>1 rows × 28 columns</p>\n",
       "</div>"
      ],
      "text/plain": [
       "   AMB_TEMP        CO        NO      NOx        O3      PM10     PM2.5  \\\n",
       "0  0.551633  0.496063  0.206339  0.40233  0.618574  0.239358  0.293967   \n",
       "\n",
       "   RAINFALL        RH       SO2          ...           ['WD_HR_OHE']_7  \\\n",
       "0       0.0 -0.535853  0.216127          ...                         0   \n",
       "\n",
       "   ['WD_HR_OHE']_8  ['WIND_DIREC_OHE']_1  ['WIND_DIREC_OHE']_2  \\\n",
       "0                0                     0                     0   \n",
       "\n",
       "   ['WIND_DIREC_OHE']_3  ['WIND_DIREC_OHE']_4  ['WIND_DIREC_OHE']_5  \\\n",
       "0                     0                     0                     0   \n",
       "\n",
       "   ['WIND_DIREC_OHE']_6  ['WIND_DIREC_OHE']_7  ['WIND_DIREC_OHE']_8  \n",
       "0                     0                     1                     0  \n",
       "\n",
       "[1 rows x 28 columns]"
      ]
     },
     "execution_count": 260,
     "metadata": {},
     "output_type": "execute_result"
    }
   ],
   "source": [
    "new_x_dataframe"
   ]
  },
  {
   "cell_type": "code",
   "execution_count": 261,
   "metadata": {},
   "outputs": [],
   "source": [
    "#Convert predict_y to list\n",
    "predict_y = clf.predict(new_x_dataframe.values).tolist()"
   ]
  },
  {
   "cell_type": "code",
   "execution_count": 262,
   "metadata": {},
   "outputs": [],
   "source": [
    "#Convert list to string\n",
    "predict_y = ' '.join(map(str,predict_y)) "
   ]
  },
  {
   "cell_type": "code",
   "execution_count": 263,
   "metadata": {},
   "outputs": [
    {
     "name": "stdout",
     "output_type": "stream",
     "text": [
      "17.53837379561243\n"
     ]
    }
   ],
   "source": [
    "#Show final prediction\n",
    "print(predict_y) "
   ]
  },
  {
   "cell_type": "code",
   "execution_count": 264,
   "metadata": {},
   "outputs": [
    {
     "data": {
      "text/plain": [
       "17.54"
      ]
     },
     "execution_count": 264,
     "metadata": {},
     "output_type": "execute_result"
    }
   ],
   "source": [
    "predict_y_redis = round(float(predict_y),2)\n",
    "predict_y_redis "
   ]
  },
  {
   "cell_type": "code",
   "execution_count": 265,
   "metadata": {},
   "outputs": [
    {
     "name": "stdout",
     "output_type": "stream",
     "text": [
      "{'GuanYin': '25.83', 'TaoYuan': '21.09', 'PingZhen': '19.02', 'JhongLi': '27.77', 'LongTan': '17.54'}\n"
     ]
    }
   ],
   "source": [
    "import redis\n",
    "conn = redis.StrictRedis(host=\"localhost\", port=6379, charset=\"utf-8\", decode_responses=True)\n",
    "conn.hset('prediction','LongTan',predict_y_redis)\n",
    "print(conn.hgetall('prediction'))"
   ]
  }
 ],
 "metadata": {
  "kernelspec": {
   "display_name": "Python 3",
   "language": "python",
   "name": "python3"
  },
  "language_info": {
   "codemirror_mode": {
    "name": "ipython",
    "version": 3
   },
   "file_extension": ".py",
   "mimetype": "text/x-python",
   "name": "python",
   "nbconvert_exporter": "python",
   "pygments_lexer": "ipython3",
   "version": "3.7.2"
  }
 },
 "nbformat": 4,
 "nbformat_minor": 2
}
